{
 "cells": [
  {
   "cell_type": "code",
   "execution_count": 5,
   "metadata": {},
   "outputs": [
    {
     "name": "stderr",
     "output_type": "stream",
     "text": [
      "/home/jechmate/anaconda3/envs/eli/lib/python3.10/site-packages/tqdm/auto.py:21: TqdmWarning: IProgress not found. Please update jupyter and ipywidgets. See https://ipywidgets.readthedocs.io/en/stable/user_install.html\n",
      "  from .autonotebook import tqdm as notebook_tqdm\n"
     ]
    }
   ],
   "source": [
    "from ddpm_conditional import *\n",
    "import pickle\n",
    "# import torch_utils"
   ]
  },
  {
   "cell_type": "code",
   "execution_count": null,
   "metadata": {},
   "outputs": [],
   "source": [
    "%load_ext autoreload\n",
    "%autoreload 2"
   ]
  },
  {
   "cell_type": "code",
   "execution_count": null,
   "metadata": {},
   "outputs": [],
   "source": [
    "import dataset\n",
    "import cv2\n",
    "import matplotlib.pyplot as plt\n",
    "img = cv2.imread(\"train/4/0.png\", cv2.IMREAD_UNCHANGED)\n",
    "img = dataset.add_fingerprint(img)\n",
    "img[0:6, 0:6]"
   ]
  },
  {
   "cell_type": "code",
   "execution_count": 7,
   "metadata": {},
   "outputs": [
    {
     "name": "stderr",
     "output_type": "stream",
     "text": [
      "1279it [00:00, 1564.52it/s]\n"
     ]
    }
   ],
   "source": [
    "from tqdm import tqdm\n",
    "img_files = dataset.get_list_of_imgs(\"train_bigger\", \"*.png\")\n",
    "imgs = [cv2.imread(x, cv2.IMREAD_UNCHANGED) for x in img_files]\n",
    "for file, img in tqdm(zip(img_files, imgs)):\n",
    "    img = dataset.add_fingerprint(img, size=8)\n",
    "    cv2.imwrite(file, img)"
   ]
  },
  {
   "cell_type": "code",
   "execution_count": null,
   "metadata": {},
   "outputs": [],
   "source": [
    "with open('models/edm-afhqv2-64x64-uncond-ve.pkl', 'rb') as f:\n",
    "    ckpt = pickle.load(f)"
   ]
  },
  {
   "cell_type": "code",
   "execution_count": null,
   "metadata": {},
   "outputs": [],
   "source": [
    "\n",
    "# Load the extracted weights into the corresponding layers of model2\n",
    "# model2.load_state_dict(weights, strict=False)\n",
    "for param_tensor in ckpt['ema'].state_dict():\n",
    "    print(param_tensor, \"\\t\", ckpt['ema'].state_dict()[param_tensor].size())"
   ]
  },
  {
   "cell_type": "code",
   "execution_count": null,
   "metadata": {},
   "outputs": [],
   "source": [
    "print(ckpt['ema'].model.enc.parameters())"
   ]
  },
  {
   "cell_type": "code",
   "execution_count": null,
   "metadata": {},
   "outputs": [],
   "source": [
    "import pickle\n",
    "from ddpm_conditional import *\n",
    "import torch.onnx\n",
    "\n",
    "device = 'cuda:1'\n",
    "batch_size = 1\n",
    "\n",
    "torch_model = UNet_conditional(img_width=128, img_height=64, feat_num=3, device=device).to(device)\n",
    "ckpt = torch.load(\"models/CFG_700_norm_fing/ema_ckpt.pt\")\n",
    "torch_model.load_state_dict(ckpt)\n",
    "torch_model.eval()\n",
    "\n",
    "x_t = torch.randn(batch_size, 1, 64, 128, requires_grad=True).to(device)\n",
    "t = torch.randint(low=1, high=500, size=(batch_size,)).to(device)\n",
    "settings = torch.randn(batch_size, 3, requires_grad=True).to(device)\n",
    "\n",
    "# torch_out = torch_model(x_t, t, settings)\n",
    "\n",
    "torch.onnx.export(torch_model,               # model being run\n",
    "                  (x_t, t, settings),                         # model input (or a tuple for multiple inputs)\n",
    "                  \"diffAE.onnx\",   # where to save the model (can be a file or file-like object)\n",
    "                  export_params=True,        # store the trained parameter weights inside the model file\n",
    "                  opset_version=11,          # the ONNX version to export the model to\n",
    "                  do_constant_folding=True,  # whether to execute constant folding for optimization\n",
    "                  input_names = ['noised', 'timestep', 'settings'],   # the model's input names\n",
    "                  output_names = ['output'], # the model's output names\n",
    "                  dynamic_axes={'input' : {0 : 'batch_size'},    # variable length axes\n",
    "                                'output' : {0 : 'batch_size'}}\n",
    ")"
   ]
  },
  {
   "cell_type": "code",
   "execution_count": null,
   "metadata": {},
   "outputs": [],
   "source": [
    "import pickle\n",
    "from ddpm_conditional import *\n",
    "import torch.onnx\n",
    "\n",
    "device = 'cuda:0'\n",
    "batch_size = 1\n",
    "\n",
    "with open('models/edm-afhqv2-64x64-uncond-ve.pkl', 'rb') as f:\n",
    "    ckpt = pickle.load(f)\n",
    "    torch_model = ckpt[\"ema\"].to(device)\n",
    "torch_model.eval()\n",
    "batch_size = 1\n",
    "\n",
    "x = torch.randn(batch_size, 3, 64, 64, requires_grad=False).to(device)\n",
    "noise_labels = torch.randn(batch_size, 3, 64, 64, requires_grad=False).to(device)\n",
    "class_labels = torch.randn(batch_size, 1, requires_grad=False).to(device)\n",
    "torch_out = torch_model(x, noise_labels, class_labels)\n",
    "summary(torch_model, noise_labels, class_labels)\n",
    "# print(torch_out)\n",
    "# for param_tensor in torch_model.state_dict():\n",
    "#     print(param_tensor, \"\\t\", torch_model.state_dict()[param_tensor].size())\n",
    "\n",
    "# torch.onnx.export(torch_model,               # model being run\n",
    "#                   (x, noise_labels, class_labels),                         # model input (or a tuple for multiple inputs)\n",
    "#                   \"edm.onnx\",   # where to save the model (can be a file or file-like object)\n",
    "#                   export_params=True,        # store the trained parameter weights inside the model file\n",
    "#                   opset_version=9,          # the ONNX version to export the model to\n",
    "#                   do_constant_folding=True,  # whether to execute constant folding for optimization\n",
    "#                   input_names = ['im', 'noise', 'class'],   # the model's input names\n",
    "#                   output_names = ['output'], # the model's output names\n",
    "#                   dynamic_axes={'input' : {0 : 'batch_size'},    # variable length axes\n",
    "#                                 'output' : {0 : 'batch_size'}}\n",
    "# )\n",
    "\n",
    "# x_t = torch.randn(batch_size, 64, 128, requires_grad=True)\n",
    "# t = torch.randn(batch_size, , requires_grad=True)\n",
    "# settings = torch.randn(batch_size, 1, 64, 128, requires_grad=True)\n",
    "\n",
    "# torch_out = ckpt(x_t, t, settings)\n"
   ]
  },
  {
   "cell_type": "code",
   "execution_count": null,
   "metadata": {},
   "outputs": [],
   "source": [
    "import pandas as pd\n",
    "\n",
    "def min_max_norm(col):\n",
    "    return (col - col.min()) / (col.max() - col.min())\n",
    "\n",
    "pd.read_csv(\"params.csv\", engine='python')[[\"E\",\"perc_N\",\"P\",\"gain\",\"ms\"]].apply(min_max_norm)"
   ]
  },
  {
   "cell_type": "code",
   "execution_count": null,
   "metadata": {},
   "outputs": [],
   "source": [
    "import numpy as np\n",
    "import torch\n",
    "\n",
    "device = \"cuda:2\"\n",
    "width = 128\n",
    "height = 64\n",
    "freqs_hor = np.pi*torch.linspace(0, width-1,width).to(device)/width\n",
    "freqs_ver = np.pi*torch.linspace(0, height-1,height).to(device)/height\n",
    "frequencies_squared = freqs_hor[:, None]**2 + freqs_ver[None, :]**2\n",
    "frequencies_squared.shape"
   ]
  },
  {
   "cell_type": "code",
   "execution_count": null,
   "metadata": {},
   "outputs": [],
   "source": [
    "import cv2\n",
    "from matplotlib import pyplot as plt\n",
    "\n",
    "im = cv2.imread(\"processed/6/26.png\", cv2.IMREAD_UNCHANGED)\n",
    "plt.imshow(im, vmin=0, vmax=255)"
   ]
  },
  {
   "cell_type": "code",
   "execution_count": null,
   "metadata": {},
   "outputs": [],
   "source": [
    "im_res = cv2.resize(im, (128, 64))\n",
    "im_res = cv2.resize(im_res, (512, 256))\n",
    "plt.imshow(im_res, vmin=0, vmax=255)"
   ]
  },
  {
   "cell_type": "code",
   "execution_count": null,
   "metadata": {},
   "outputs": [],
   "source": [
    "import dataset\n",
    "deflection_MeV, spectrum_calibrated = dataset.get_1d(im/255, electron_pointing_pixel=62)\n",
    "\n",
    "plt.title('Reconstructed Spectrum')\n",
    "# print(spectrum_calibrated)\n",
    "plt.plot(deflection_MeV, spectrum_calibrated)  # plot without fit\n",
    "plt.ylabel('Spectral Intensity (pA/MeV)')\n",
    "plt.xlabel('Energy (MeV)')\n",
    "plt.xlim([2, 8])\n",
    "# plt.ylim([0, 130])"
   ]
  },
  {
   "cell_type": "code",
   "execution_count": null,
   "metadata": {},
   "outputs": [],
   "source": [
    "import dataset\n",
    "deflection_MeV, spectrum_calibrated = dataset.get_1d(im_res/255, electron_pointing_pixel=62)\n",
    "\n",
    "plt.title('Reconstructed Spectrum')\n",
    "# print(spectrum_calibrated)\n",
    "plt.plot(deflection_MeV, spectrum_calibrated)  # plot without fit\n",
    "plt.ylabel('Spectral Intensity (pA/MeV)')\n",
    "plt.xlabel('Energy (MeV)')\n",
    "plt.xlim([2, 8])\n",
    "# plt.ylim([0, 130])"
   ]
  },
  {
   "cell_type": "code",
   "execution_count": null,
   "metadata": {},
   "outputs": [],
   "source": [
    "import cv2\n",
    "from matplotlib import pyplot as plt\n",
    "import dataset\n",
    "import os\n",
    "import numpy as np\n",
    "def plot_average_image_pairs(root_folder, electron_pointing_pixel=62, noise=0.11):\n",
    "    subfolders = sorted([f.path for f in os.scandir(root_folder) if f.is_dir()])\n",
    "    n = len(subfolders)\n",
    "    fig, axs = plt.subplots(n, 2, figsize=(15, 4*n))\n",
    "    fig.subplots_adjust(hspace=0.35)  # Increase the space between rows\n",
    "    fig.subplots_adjust(wspace=0.1)  # Decrease the space between columns\n",
    "    for i, subfolder in enumerate(subfolders):\n",
    "        images = []\n",
    "        for filename in os.listdir(subfolder):\n",
    "            if filename.endswith(\".png\"):\n",
    "                im = cv2.imread(os.path.join(subfolder, filename), cv2.IMREAD_UNCHANGED)\n",
    "                images.append(im)\n",
    "        avg_im = np.mean(images, axis=0)\n",
    "        deflection_MeV, spectrum_calibrated = dataset.get_1d(avg_im/255, electron_pointing_pixel=electron_pointing_pixel, noise=noise)\n",
    "\n",
    "        axs[i, 1].plot(deflection_MeV, spectrum_calibrated)  # plot without fit\n",
    "        axs[i, 1].set_title('Reconstructed Spectrum')\n",
    "        axs[i, 1].set_ylabel('Spectral Intensity (pA/MeV)')\n",
    "        axs[i, 1].set_xlabel('Energy (MeV)')\n",
    "        axs[i, 1].set_xlim([2, 20])\n",
    "        axs[i, 0].imshow(avg_im, vmin=0, vmax=255)\n",
    "        axs[i, 0].set_title(os.path.basename(subfolder))\n",
    "    plt.show()"
   ]
  },
  {
   "cell_type": "code",
   "execution_count": null,
   "metadata": {},
   "outputs": [],
   "source": [
    "plot_average_image_pairs(\"processed\", noise=0.11)"
   ]
  },
  {
   "cell_type": "code",
   "execution_count": 12,
   "metadata": {},
   "outputs": [],
   "source": [
    "import cv2\n",
    "from matplotlib import pyplot as plt\n",
    "import src.dataset\n",
    "import os\n",
    "import numpy as np\n",
    "import pandas as pd"
   ]
  },
  {
   "cell_type": "code",
   "execution_count": 10,
   "metadata": {},
   "outputs": [],
   "source": [
    "def show_image_spectra(im, image_gain=0, acq_time=0.11, electron_pointing_pixel=62):\n",
    "    fig, (ax1, ax2) = plt.subplots(1, 2, figsize=(20, 4))\n",
    "    deflection_MeV, spectrum_calibrated = src.dataset.get_1d(im/255, electron_pointing_pixel=electron_pointing_pixel, image_gain=image_gain, acquisition_time_ms=acq_time)\n",
    "\n",
    "    ax2.plot(deflection_MeV, spectrum_calibrated)  # plot without fit\n",
    "    ax2.set_title('Reconstructed Spectrum')\n",
    "    ax2.set_ylabel('Spectral Intensity (pA/MeV)')\n",
    "    ax2.set_xlabel('Energy (MeV)')\n",
    "    ax2.set_xlim([2, 20])\n",
    "    ax1.imshow(im, vmin=0, vmax=255)\n",
    "    ax1.set_title(\"Image\")\n",
    "    plt.show()"
   ]
  },
  {
   "cell_type": "code",
   "execution_count": 23,
   "metadata": {},
   "outputs": [
    {
     "name": "stdout",
     "output_type": "stream",
     "text": [
      "20\n"
     ]
    },
    {
     "ename": "TypeError",
     "evalue": "get_1d() missing 1 required positional argument: 'acquisition_time_ms'",
     "output_type": "error",
     "traceback": [
      "\u001b[0;31m---------------------------------------------------------------------------\u001b[0m",
      "\u001b[0;31mTypeError\u001b[0m                                 Traceback (most recent call last)",
      "Cell \u001b[0;32mIn[23], line 8\u001b[0m\n\u001b[1;32m      6\u001b[0m acq_time \u001b[38;5;241m=\u001b[39m settings[\u001b[38;5;124m'\u001b[39m\u001b[38;5;124mms\u001b[39m\u001b[38;5;124m'\u001b[39m][\u001b[38;5;241m2\u001b[39m]\n\u001b[1;32m      7\u001b[0m \u001b[38;5;28mprint\u001b[39m(acq_time)\n\u001b[0;32m----> 8\u001b[0m \u001b[43mshow_image_spectra\u001b[49m\u001b[43m(\u001b[49m\u001b[43mmy_gain\u001b[49m\u001b[43m,\u001b[49m\u001b[43m \u001b[49m\u001b[43mimage_gain\u001b[49m\u001b[38;5;241;43m=\u001b[39;49m\u001b[38;5;241;43m0\u001b[39;49m\u001b[43m)\u001b[49m\n\u001b[1;32m      9\u001b[0m show_image_spectra(their_gain, image_gain\u001b[38;5;241m=\u001b[39m\u001b[38;5;241m0\u001b[39m)\n",
      "Cell \u001b[0;32mIn[10], line 3\u001b[0m, in \u001b[0;36mshow_image_spectra\u001b[0;34m(im, image_gain, noise, electron_pointing_pixel)\u001b[0m\n\u001b[1;32m      1\u001b[0m \u001b[38;5;28;01mdef\u001b[39;00m \u001b[38;5;21mshow_image_spectra\u001b[39m(im, image_gain\u001b[38;5;241m=\u001b[39m\u001b[38;5;241m0\u001b[39m, noise\u001b[38;5;241m=\u001b[39m\u001b[38;5;241m0.11\u001b[39m, electron_pointing_pixel\u001b[38;5;241m=\u001b[39m\u001b[38;5;241m62\u001b[39m):\n\u001b[1;32m      2\u001b[0m     fig, (ax1, ax2) \u001b[38;5;241m=\u001b[39m plt\u001b[38;5;241m.\u001b[39msubplots(\u001b[38;5;241m1\u001b[39m, \u001b[38;5;241m2\u001b[39m, figsize\u001b[38;5;241m=\u001b[39m(\u001b[38;5;241m20\u001b[39m, \u001b[38;5;241m4\u001b[39m))\n\u001b[0;32m----> 3\u001b[0m     deflection_MeV, spectrum_calibrated \u001b[38;5;241m=\u001b[39m \u001b[43msrc\u001b[49m\u001b[38;5;241;43m.\u001b[39;49m\u001b[43mdataset\u001b[49m\u001b[38;5;241;43m.\u001b[39;49m\u001b[43mget_1d\u001b[49m\u001b[43m(\u001b[49m\u001b[43mim\u001b[49m\u001b[38;5;241;43m/\u001b[39;49m\u001b[38;5;241;43m255\u001b[39;49m\u001b[43m,\u001b[49m\u001b[43m \u001b[49m\u001b[43melectron_pointing_pixel\u001b[49m\u001b[38;5;241;43m=\u001b[39;49m\u001b[43melectron_pointing_pixel\u001b[49m\u001b[43m,\u001b[49m\u001b[43m \u001b[49m\u001b[43mimage_gain\u001b[49m\u001b[38;5;241;43m=\u001b[39;49m\u001b[43mimage_gain\u001b[49m\u001b[43m)\u001b[49m\n\u001b[1;32m      5\u001b[0m     ax2\u001b[38;5;241m.\u001b[39mplot(deflection_MeV, spectrum_calibrated)  \u001b[38;5;66;03m# plot without fit\u001b[39;00m\n\u001b[1;32m      6\u001b[0m     ax2\u001b[38;5;241m.\u001b[39mset_title(\u001b[38;5;124m'\u001b[39m\u001b[38;5;124mReconstructed Spectrum\u001b[39m\u001b[38;5;124m'\u001b[39m)\n",
      "\u001b[0;31mTypeError\u001b[0m: get_1d() missing 1 required positional argument: 'acquisition_time_ms'"
     ]
    },
    {
     "data": {
      "image/png": "[encoded data removed]",
      "text/plain": [
       "<Figure size 2000x400 with 2 Axes>"
      ]
     },
     "metadata": {},
     "output_type": "display_data"
    }
   ],
   "source": [
    "impath = \"4/0.png\"\n",
    "my_gain = cv2.imread(\"data/train_bigger/\" + impath, cv2.IMREAD_UNCHANGED)\n",
    "their_gain = cv2.imread(\"data/with_gain/\" + impath, cv2.IMREAD_UNCHANGED)\n",
    "settings = pd.read_csv('data/params.csv')\n",
    "\n",
    "acq_time = settings['ms'][3]\n",
    "show_image_spectra(my_gain, image_gain=0, acq_time=acq_time)\n",
    "show_image_spectra(their_gain, image_gain=0, acq_time=acq_time)"
   ]
  },
  {
   "cell_type": "code",
   "execution_count": 3,
   "metadata": {},
   "outputs": [],
   "source": [
    "from src.utils import *\n",
    "\n",
    "stitch_images(\"results/physinf_noclamp\")"
   ]
  },
  {
   "cell_type": "code",
   "execution_count": 19,
   "metadata": {},
   "outputs": [
    {
     "data": {
      "image/png": "[encoded data removed]",
      "text/plain": [
       "<Figure size 1500x400 with 2 Axes>"
      ]
     },
     "metadata": {},
     "output_type": "display_data"
    }
   ],
   "source": [
    "from metrics import *\n",
    "import matplotlib.pyplot as plt\n",
    "\n",
    "def compare_avg_plot(im1, im2):\n",
    "    fig, axs = plt.subplots(1, 2, figsize=(15, 4))\n",
    "    fig.subplots_adjust(hspace=0.35)  # Increase the space between rows\n",
    "    fig.subplots_adjust(wspace=0.1)  # Decrease the space between columns\n",
    "    axs[0].imshow(im1, vmin=0, vmax=255, cmap='inferno')\n",
    "    axs[1].imshow(im2, vmin=0, vmax=255, cmap='inferno')\n",
    "    plt.show()\n",
    "\n",
    "def compare_avg_plots(real_root, sample_root)\n",
    "\n",
    "im1, im2 = compare_avg(\"with_gain/17\", \"results/transfer_withgain_512_valid/no_17\")\n",
    "compare_avg_plot(im1, im2)\n"
   ]
  },
  {
   "cell_type": "code",
   "execution_count": null,
   "metadata": {},
   "outputs": [],
   "source": [
    "def plot_average_pairs(real_root, sample_root):\n",
    "    n = len(os.listdir(sample_root))\n",
    "    fig, axs = plt.subplots(n, 2, figsize=(15, 4*n))\n",
    "    fig.subplots_adjust(hspace=0.35)  # Increase the space between rows\n",
    "    fig.subplots_adjust(wspace=0.1)  # Decrease the space between columns\n",
    "    for i in range(n):\n",
    "        im1, im2 = compare_avg(os.path.join(real_root, n + 1), os.path.join(sample_root, \"no_\" + str(n + 1)))\n",
    "        axs[i, 0].imshow(im1, vmin=0, vmax=255, cmap='inferno')\n",
    "        axs[i, 0].set_title(f'Experiment {i + 1}, real')\n",
    "        axs[i, 1].imshow(im2, vmin=0, vmax=255, cmap='inferno')\n",
    "        axs[i, 1].set_title(f'Sampled')\n",
    "    plt.show()"
   ]
  },
  {
   "cell_type": "code",
   "execution_count": 1,
   "metadata": {},
   "outputs": [
    {
     "data": {
      "text/plain": [
       "{'__header__': b'MATLAB 5.0 MAT-file, Platform: PCWIN64, Created on: Thu Jun  9 10:51:13 2022',\n",
       " '__version__': '1.0',\n",
       " '__globals__': [],\n",
       " 'deflection_Mix': array([[122.382 ,   1.3238],\n",
       "        [113.1797,   1.4117],\n",
       "        [ 83.9496,   1.8423],\n",
       "        [ 75.1443,   2.0471],\n",
       "        [ 68.2294,   2.2489],\n",
       "        [ 62.4582,   2.4547],\n",
       "        [ 53.8108,   2.8523],\n",
       "        [ 45.6837,   3.3718],\n",
       "        [ 39.7447,   3.8922],\n",
       "        [ 35.822 ,   4.3338],\n",
       "        [ 32.6297,   4.7734],\n",
       "        [ 30.4251,   5.132 ],\n",
       "        [ 28.6947,   5.4527],\n",
       "        [ 26.972 ,   5.8133],\n",
       "        [ 26.4405,   5.9342],\n",
       "        [ 24.371 ,   6.4557],\n",
       "        [ 22.2446,   7.0931],\n",
       "        [ 20.5504,   7.6955],\n",
       "        [ 18.9303,   8.3728],\n",
       "        [ 17.9293,   8.8523],\n",
       "        [ 16.5427,   9.6126],\n",
       "        [ 15.651 ,  10.172 ],\n",
       "        [ 14.8498,  10.7325],\n",
       "        [ 14.3008,  11.152 ],\n",
       "        [ 13.6285,  11.7115],\n",
       "        [ 13.0165,  12.2709],\n",
       "        [ 12.3803,  12.9103],\n",
       "        [ 11.944 ,  13.3878],\n",
       "        [ 11.6636,  13.7135],\n",
       "        [ 11.2739,  14.192 ],\n",
       "        [ 10.9079,  14.6726],\n",
       "        [ 10.5401,  15.189 ],\n",
       "        [ 10.1439,  15.7865],\n",
       "        [  9.6825,  16.5427],\n",
       "        [  9.3857,  17.0682],\n",
       "        [  9.1088,  17.5887],\n",
       "        [  8.771 ,  18.267 ],\n",
       "        [  8.5466,  18.7475],\n",
       "        [  8.301 ,  19.302 ],\n",
       "        [  8.0344,  19.9413],\n",
       "        [  7.83  ,  20.4608],\n",
       "        [  7.7242,  20.7405],\n",
       "        [  7.6055,  21.0632],\n",
       "        [  7.4629,  21.4638],\n",
       "        [  7.3123,  21.9034],\n",
       "        [  7.1941,  22.261 ],\n",
       "        [  7.0534,  22.7036],\n",
       "        [  6.8238,  23.4618],\n",
       "        [  6.6526,  24.0603],\n",
       "        [  6.2633,  25.5408],\n",
       "        [  5.8988,  27.0992],\n",
       "        [  5.4958,  29.0553],\n",
       "        [  5.2599,  30.337 ],\n",
       "        [  4.819 ,  33.0543],\n",
       "        [  4.4984,  35.3541],\n",
       "        [  4.1547,  38.1982],\n",
       "        [  3.6627,  43.1613],\n",
       "        [  3.1665,  49.6509],\n",
       "        [  2.9405,  53.2963],\n",
       "        [  2.5368,  61.3213],\n",
       "        [  2.2715,  68.0447],\n",
       "        [  2.0264,  75.7051],\n",
       "        [  1.7714,  85.7281],\n",
       "        [  1.4964,  99.994 ]]),\n",
       " 'deflection_curve_MeV': array([[ 1.3238],\n",
       "        [ 1.4117],\n",
       "        [ 1.8423],\n",
       "        [ 2.0471],\n",
       "        [ 2.2489],\n",
       "        [ 2.4547],\n",
       "        [ 2.8523],\n",
       "        [ 3.3718],\n",
       "        [ 3.8922],\n",
       "        [ 4.3338],\n",
       "        [ 4.7734],\n",
       "        [ 5.132 ],\n",
       "        [ 5.4527],\n",
       "        [ 5.8133],\n",
       "        [ 5.9342],\n",
       "        [ 6.4557],\n",
       "        [ 7.0931],\n",
       "        [ 7.6955],\n",
       "        [ 8.3728],\n",
       "        [ 8.8523],\n",
       "        [ 9.6126],\n",
       "        [10.172 ],\n",
       "        [10.7325],\n",
       "        [11.152 ],\n",
       "        [11.7115],\n",
       "        [12.2709],\n",
       "        [12.9103],\n",
       "        [13.3878],\n",
       "        [13.7135],\n",
       "        [14.192 ],\n",
       "        [14.6726],\n",
       "        [15.189 ],\n",
       "        [15.7865],\n",
       "        [16.5427],\n",
       "        [17.0682],\n",
       "        [17.5887],\n",
       "        [18.267 ],\n",
       "        [18.7475],\n",
       "        [19.302 ],\n",
       "        [19.9413],\n",
       "        [20.4608],\n",
       "        [20.7405],\n",
       "        [21.0632],\n",
       "        [21.4638],\n",
       "        [21.9034],\n",
       "        [22.261 ],\n",
       "        [22.7036],\n",
       "        [23.4618],\n",
       "        [24.0603],\n",
       "        [25.5408],\n",
       "        [27.0992],\n",
       "        [29.0553],\n",
       "        [30.337 ],\n",
       "        [33.0543],\n",
       "        [35.3541],\n",
       "        [38.1982],\n",
       "        [43.1613],\n",
       "        [49.6509],\n",
       "        [53.2963],\n",
       "        [61.3213],\n",
       "        [68.0447],\n",
       "        [75.7051],\n",
       "        [85.7281],\n",
       "        [99.994 ]]),\n",
       " 'deflection_curve_mm': array([[122.382 ],\n",
       "        [113.1797],\n",
       "        [ 83.9496],\n",
       "        [ 75.1443],\n",
       "        [ 68.2294],\n",
       "        [ 62.4582],\n",
       "        [ 53.8108],\n",
       "        [ 45.6837],\n",
       "        [ 39.7447],\n",
       "        [ 35.822 ],\n",
       "        [ 32.6297],\n",
       "        [ 30.4251],\n",
       "        [ 28.6947],\n",
       "        [ 26.972 ],\n",
       "        [ 26.4405],\n",
       "        [ 24.371 ],\n",
       "        [ 22.2446],\n",
       "        [ 20.5504],\n",
       "        [ 18.9303],\n",
       "        [ 17.9293],\n",
       "        [ 16.5427],\n",
       "        [ 15.651 ],\n",
       "        [ 14.8498],\n",
       "        [ 14.3008],\n",
       "        [ 13.6285],\n",
       "        [ 13.0165],\n",
       "        [ 12.3803],\n",
       "        [ 11.944 ],\n",
       "        [ 11.6636],\n",
       "        [ 11.2739],\n",
       "        [ 10.9079],\n",
       "        [ 10.5401],\n",
       "        [ 10.1439],\n",
       "        [  9.6825],\n",
       "        [  9.3857],\n",
       "        [  9.1088],\n",
       "        [  8.771 ],\n",
       "        [  8.5466],\n",
       "        [  8.301 ],\n",
       "        [  8.0344],\n",
       "        [  7.83  ],\n",
       "        [  7.7242],\n",
       "        [  7.6055],\n",
       "        [  7.4629],\n",
       "        [  7.3123],\n",
       "        [  7.1941],\n",
       "        [  7.0534],\n",
       "        [  6.8238],\n",
       "        [  6.6526],\n",
       "        [  6.2633],\n",
       "        [  5.8988],\n",
       "        [  5.4958],\n",
       "        [  5.2599],\n",
       "        [  4.819 ],\n",
       "        [  4.4984],\n",
       "        [  4.1547],\n",
       "        [  3.6627],\n",
       "        [  3.1665],\n",
       "        [  2.9405],\n",
       "        [  2.5368],\n",
       "        [  2.2715],\n",
       "        [  2.0264],\n",
       "        [  1.7714],\n",
       "        [  1.4964]])}"
      ]
     },
     "execution_count": 1,
     "metadata": {},
     "output_type": "execute_result"
    }
   ],
   "source": [
    "import scipy\n",
    "mat = scipy.io.loadmat('Deflection_curve_Mixture_Feb28.mat')\n",
    "mat"
   ]
  },
  {
   "cell_type": "code",
   "execution_count": 1,
   "metadata": {},
   "outputs": [
    {
     "data": {
      "text/plain": [
       "True"
      ]
     },
     "execution_count": 1,
     "metadata": {},
     "output_type": "execute_result"
    }
   ],
   "source": [
    "from src.dataset import read_img\n",
    "import cv2\n",
    "\n",
    "img = read_img(\"data/test/8_11.tiff\")\n",
    "img = img / 16 / 4095\n",
    "cv2.imwrite(\"original.png\", img*255)"
   ]
  },
  {
   "cell_type": "code",
   "execution_count": 13,
   "metadata": {},
   "outputs": [
    {
     "data": {
      "image/png": "[encoded data removed]",
      "text/plain": [
       "<Figure size 1500x400 with 2 Axes>"
      ]
     },
     "metadata": {},
     "output_type": "display_data"
    },
    {
     "name": "stdout",
     "output_type": "stream",
     "text": [
      "{'mse': tensor(787.7405), 'mse_norm': tensor(0.0002), 'dtw_dist': 414.08149948777964, 'ssim': tensor(0.8735, dtype=torch.float64)}\n"
     ]
    }
   ],
   "source": [
    "from metrics import *\n",
    "import matplotlib.pyplot as plt\n",
    "from src.utils import deflection_calc\n",
    "\n",
    "def compare_avg_plot(im1, im2):\n",
    "    fig, axs = plt.subplots(1, 2, figsize=(15, 4))\n",
    "    fig.subplots_adjust(hspace=0.35)  # Increase the space between rows\n",
    "    fig.subplots_adjust(wspace=0.1)  # Decrease the space between columns\n",
    "    axs[0].imshow(im1, vmin=0, vmax=255, cmap='inferno')\n",
    "    axs[1].imshow(im2, vmin=0, vmax=255, cmap='inferno')\n",
    "    plt.show()\n",
    "\n",
    "def plot_spectra(sp1, sp2, el_pointing_pixel=62):\n",
    "    fig, (ax1, ax2) = plt.subplots(1, 2, figsize=(20, 4))\n",
    "    deflection_MeV = deflection_calc(1, len(sp1), el_pointing_pixel).flatten()\n",
    "    ax1.plot(deflection_MeV, sp1)  # plot without fit\n",
    "    ax1.set_title('Reconstructed Spectrum1')\n",
    "    ax1.set_ylabel('Spectral Intensity (pA/MeV)')\n",
    "    ax1.set_xlabel('Energy (MeV)')\n",
    "    ax1.set_xlim([2, 20])\n",
    "    ax2.plot(deflection_MeV, sp2)  # plot without fit\n",
    "    ax2.set_title('Reconstructed Spectrum2')\n",
    "    ax2.set_ylabel('Spectral Intensity (pA/MeV)')\n",
    "    ax2.set_xlabel('Energy (MeV)')\n",
    "    ax2.set_xlim([2, 20])\n",
    "    plt.show()\n",
    "\n",
    "dirnum = 11\n",
    "\n",
    "dir1 = 'data/with_gain/' + str(dirnum)\n",
    "dir2 = 'results/valid_nophys_1000ns_sec25_cfg3/' + str(dirnum)\n",
    "\n",
    "res, spectra = compare_spectra(dir1, dir2, dirnum)\n",
    "img1, img2 = compare_avg(dir1, dir2)\n",
    "compare_avg_plot(img1, img2)\n",
    "print(res)\n",
    "# plot_spectra(sp1, sp2)"
   ]
  }
 ],
 "metadata": {
  "kernelspec": {
   "display_name": "eli",
   "language": "python",
   "name": "python3"
  },
  "language_info": {
   "codemirror_mode": {
    "name": "ipython",
    "version": 3
   },
   "file_extension": ".py",
   "mimetype": "text/x-python",
   "name": "python",
   "nbconvert_exporter": "python",
   "pygments_lexer": "ipython3",
   "version": "3.10.12"
  },
  "orig_nbformat": 4
 },
 "nbformat": 4,
 "nbformat_minor": 2
}
