{
 "cells": [
  {
   "cell_type": "code",
   "execution_count": 1,
   "metadata": {},
   "outputs": [
    {
     "data": {
      "application/vnd.jupyter.widget-view+json": {
       "model_id": "dd5db2d13c9b4d6795478ec3d7ca4a2f",
       "version_major": 2,
       "version_minor": 0
      },
      "text/plain": [
       "Text(value='cuda:1', description='Device:')"
      ]
     },
     "metadata": {},
     "output_type": "display_data"
    },
    {
     "data": {
      "application/vnd.jupyter.widget-view+json": {
       "model_id": "d1ef2421153b415fb8e85d3c69193673",
       "version_major": 2,
       "version_minor": 0
      },
      "text/plain": [
       "Text(value='1', description='Model:')"
      ]
     },
     "metadata": {},
     "output_type": "display_data"
    },
    {
     "data": {
      "application/vnd.jupyter.widget-view+json": {
       "model_id": "3142b4db84c94b4bb2f79085de3253b6",
       "version_major": 2,
       "version_minor": 0
      },
      "text/plain": [
       "IntSlider(value=2, description='n', max=64, min=1)"
      ]
     },
     "metadata": {},
     "output_type": "display_data"
    },
    {
     "data": {
      "application/vnd.jupyter.widget-view+json": {
       "model_id": "b6a59877683e4e4f870ae0f1b7f40631",
       "version_major": 2,
       "version_minor": 0
      },
      "text/plain": [
       "IntSlider(value=15, description='Energy')"
      ]
     },
     "metadata": {},
     "output_type": "display_data"
    },
    {
     "data": {
      "application/vnd.jupyter.widget-view+json": {
       "model_id": "9cd2236ab74542b9b0647f934f77c163",
       "version_major": 2,
       "version_minor": 0
      },
      "text/plain": [
       "IntSlider(value=15, description='Pressure')"
      ]
     },
     "metadata": {},
     "output_type": "display_data"
    },
    {
     "data": {
      "application/vnd.jupyter.widget-view+json": {
       "model_id": "fe81db51d257432a8872c71a6f7347cc",
       "version_major": 2,
       "version_minor": 0
      },
      "text/plain": [
       "IntSlider(value=20, description='Acquisition time', min=1)"
      ]
     },
     "metadata": {},
     "output_type": "display_data"
    },
    {
     "data": {
      "application/vnd.jupyter.widget-view+json": {
       "model_id": "e240cc9b600a415f85961d6b2bff53d5",
       "version_major": 2,
       "version_minor": 0
      },
      "text/plain": [
       "IntSlider(value=2, description='Energy xmin', min=1)"
      ]
     },
     "metadata": {},
     "output_type": "display_data"
    },
    {
     "data": {
      "application/vnd.jupyter.widget-view+json": {
       "model_id": "4aadc848638441aabb6ff7b9c02dfb49",
       "version_major": 2,
       "version_minor": 0
      },
      "text/plain": [
       "IntSlider(value=30, description='Energy xmax', min=1)"
      ]
     },
     "metadata": {},
     "output_type": "display_data"
    },
    {
     "data": {
      "application/vnd.jupyter.widget-view+json": {
       "model_id": "c29486ec8c234eb59a461aaf5ed1eb7f",
       "version_major": 2,
       "version_minor": 0
      },
      "text/plain": [
       "Button(description='Generate', style=ButtonStyle())"
      ]
     },
     "metadata": {},
     "output_type": "display_data"
    },
    {
     "data": {
      "application/vnd.jupyter.widget-view+json": {
       "model_id": "b05aba9c4fd24050ba35d936aaea19d8",
       "version_major": 2,
       "version_minor": 0
      },
      "text/plain": [
       "Button(description='Clear Output', style=ButtonStyle())"
      ]
     },
     "metadata": {},
     "output_type": "display_data"
    },
    {
     "data": {
      "application/vnd.jupyter.widget-view+json": {
       "model_id": "50d25c5c2a354a90858ec2a7734349b4",
       "version_major": 2,
       "version_minor": 0
      },
      "text/plain": [
       "Output()"
      ]
     },
     "metadata": {},
     "output_type": "display_data"
    }
   ],
   "source": [
    "import ipywidgets as widgets\n",
    "from IPython.display import display, clear_output\n",
    "import torch\n",
    "from src.diffusion import SpacedDiffusion\n",
    "from src.modules import UNet_conditional\n",
    "from src.utils import plot_image_pairs, save_samples\n",
    "from metrics import create_sections_list, cosine_step_schedule\n",
    "\n",
    "# Define the widgets\n",
    "device_widget = widgets.Text(description=\"Device:\", value=\"cuda:1\")\n",
    "model_widget = widgets.Text(description=\"Model:\", value=\"1\")\n",
    "slider_n = widgets.IntSlider(description=\"n\", min=1, max=64, value=2)\n",
    "slider_e = widgets.IntSlider(description=\"Energy\", min=0, value=15)\n",
    "slider_p = widgets.IntSlider(description=\"Pressure\", min=0, value=15)\n",
    "slider_ms = widgets.IntSlider(description=\"Acquisition time\", min=1, value=20)\n",
    "slider_minx = widgets.IntSlider(description=\"Energy xmin\", min=1, max=100, value=2)\n",
    "slider_maxx = widgets.IntSlider(description=\"Energy xmax\", min=1, max=100, value=30)\n",
    "button = widgets.Button(description=\"Generate\")\n",
    "output = widgets.Output()\n",
    "clear_button = widgets.Button(description=\"Clear Output\")\n",
    "\n",
    "def clear_output_on_click(b):\n",
    "    with output:\n",
    "        clear_output()\n",
    "\n",
    "def generate(b):\n",
    "    model_name = model_widget.value\n",
    "    device = device_widget.value\n",
    "    n = slider_n.value\n",
    "    E = slider_e.value\n",
    "    P = slider_p.value\n",
    "    ms = slider_ms.value\n",
    "\n",
    "    xmin = slider_minx.value\n",
    "    xmax = slider_maxx.value\n",
    "    \n",
    "    with output:\n",
    "        if xmax <= xmin:\n",
    "            print(\"xmax must be above the value of xmin\")\n",
    "            return\n",
    "        if model_name == \"1\":\n",
    "            path = \"models/nophys_full/ema_ckpt.pt\"\n",
    "            print(\"Loading \", path)\n",
    "            model = UNet_conditional(img_width=128, img_height=64, feat_num=3, device=device).to(device)\n",
    "            ckpt = torch.load(path, map_location=device)\n",
    "            model.load_state_dict(ckpt)\n",
    "            sampler = SpacedDiffusion(beta_start=1e-4, beta_end=0.02, noise_steps=1000, section_counts=create_sections_list(10, 25, cosine_step_schedule), img_height=64, img_width=128, device=device, rescale_timesteps=False)\n",
    "            y = torch.Tensor([E,P,ms]).to(device).float().unsqueeze(0) # parameter vector\n",
    "            x = sampler.ddim_sample_loop(model=model, y=y, cfg_scale=1, device=device, eta=1, n=n)\n",
    "            plot_image_pairs(x, xlim=[xmin,xmax], acquisition_time_ms=ms, beam_point_y=128, beam_point_x=62, energy=E, pressure=P, model=1)\n",
    "        elif model_name == \"2\":\n",
    "            path = \"models/cossched_full/ema_ckpt.pt\"\n",
    "            print(\"Loading \", path)\n",
    "            model = UNet_conditional(img_width=128, img_height=64, feat_num=3, device=device).to(device)\n",
    "            ckpt = torch.load(path, map_location=device)\n",
    "            model.load_state_dict(ckpt)\n",
    "            sampler = SpacedDiffusion(beta_start=1e-4, beta_end=0.02, noise_steps=1000, section_counts=[15], img_height=64, img_width=128, device=device, rescale_timesteps=False)\n",
    "            y = torch.Tensor([E,P,ms]).to(device).float().unsqueeze(0) # parameter vector\n",
    "            x = sampler.ddim_sample_loop(model=model, y=y, cfg_scale=1, device=device, eta=1, n=n)\n",
    "            plot_image_pairs(x, xlim=[xmin,xmax], acquisition_time_ms=ms, beam_point_y=128, beam_point_x=62, energy=E, pressure=P, model=2)\n",
    "        elif model_name == \"3\":\n",
    "            path = \"models/x_start_phys/ema_ckpt.pt\"\n",
    "            print(\"Loading \", path)\n",
    "            model = UNet_conditional(img_width=128, img_height=64, feat_num=3, device=device).to(device)\n",
    "            ckpt = torch.load(path, map_location=device)\n",
    "            model.load_state_dict(ckpt)\n",
    "            sampler = SpacedDiffusion(beta_start=1e-4, beta_end=0.02, noise_steps=1000, section_counts=[15], img_height=64, img_width=128, device=device, rescale_timesteps=False)\n",
    "            y = torch.Tensor([E,P,ms]).to(device).float().unsqueeze(0) # parameter vector\n",
    "            x = sampler.ddim_sample_loop(model=model, y=y, cfg_scale=1, device=device, eta=1, n=n)\n",
    "            plot_image_pairs(x, xlim=[xmin,xmax], acquisition_time_ms=ms, beam_point_y=128, beam_point_x=62, energy=E, pressure=P, model=2)\n",
    "\n",
    "\n",
    "# Link the button click to the function\n",
    "button.on_click(generate)\n",
    "clear_button.on_click(clear_output_on_click)\n",
    "\n",
    "# Display the widgets\n",
    "display(device_widget, model_widget, slider_n, slider_e, slider_p, slider_ms, slider_minx, slider_maxx, button, clear_button, output)\n"
   ]
  }
 ],
 "metadata": {
  "kernelspec": {
   "display_name": "eli",
   "language": "python",
   "name": "python3"
  },
  "language_info": {
   "codemirror_mode": {
    "name": "ipython",
    "version": 3
   },
   "file_extension": ".py",
   "mimetype": "text/x-python",
   "name": "python",
   "nbconvert_exporter": "python",
   "pygments_lexer": "ipython3",
   "version": "3.10.12"
  },
  "orig_nbformat": 4
 },
 "nbformat": 4,
 "nbformat_minor": 2
}
