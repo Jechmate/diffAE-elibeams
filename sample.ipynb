{
 "cells": [
  {
   "cell_type": "code",
   "execution_count": 1,
   "metadata": {},
   "outputs": [
    {
     "data": {
      "application/vnd.jupyter.widget-view+json": {
       "model_id": "9c571b612da54b95bca29c3987583b28",
       "version_major": 2,
       "version_minor": 0
      },
      "text/plain": [
       "Text(value='cuda:1', description='Device:')"
      ]
     },
     "metadata": {},
     "output_type": "display_data"
    },
    {
     "data": {
      "application/vnd.jupyter.widget-view+json": {
       "model_id": "884b68cb9ac8445d8175e4c808b5aea6",
       "version_major": 2,
       "version_minor": 0
      },
      "text/plain": [
       "Text(value='1', description='Model:')"
      ]
     },
     "metadata": {},
     "output_type": "display_data"
    },
    {
     "data": {
      "application/vnd.jupyter.widget-view+json": {
       "model_id": "6a2d1cf7f4b041adb562f2cf77512fa2",
       "version_major": 2,
       "version_minor": 0
      },
      "text/plain": [
       "IntSlider(value=2, description='n', max=64, min=1)"
      ]
     },
     "metadata": {},
     "output_type": "display_data"
    },
    {
     "data": {
      "application/vnd.jupyter.widget-view+json": {
       "model_id": "307bcefb8ec3413e863ffbfad99ca9da",
       "version_major": 2,
       "version_minor": 0
      },
      "text/plain": [
       "IntSlider(value=15, description='Energy')"
      ]
     },
     "metadata": {},
     "output_type": "display_data"
    },
    {
     "data": {
      "application/vnd.jupyter.widget-view+json": {
       "model_id": "d903baa7ee3445b5a0c5ae4940051b34",
       "version_major": 2,
       "version_minor": 0
      },
      "text/plain": [
       "IntSlider(value=15, description='Pressure')"
      ]
     },
     "metadata": {},
     "output_type": "display_data"
    },
    {
     "data": {
      "application/vnd.jupyter.widget-view+json": {
       "model_id": "1ae34f0066cd4fd982ecc0cb51b63e02",
       "version_major": 2,
       "version_minor": 0
      },
      "text/plain": [
       "IntSlider(value=20, description='Acquisition time', min=1)"
      ]
     },
     "metadata": {},
     "output_type": "display_data"
    },
    {
     "data": {
      "application/vnd.jupyter.widget-view+json": {
       "model_id": "ffa3527e6fae423e9992c9fd19eb2a23",
       "version_major": 2,
       "version_minor": 0
      },
      "text/plain": [
       "IntSlider(value=2, description='Energy xmin', min=1)"
      ]
     },
     "metadata": {},
     "output_type": "display_data"
    },
    {
     "data": {
      "application/vnd.jupyter.widget-view+json": {
       "model_id": "65744807032340cfb636e971871fbca4",
       "version_major": 2,
       "version_minor": 0
      },
      "text/plain": [
       "IntSlider(value=30, description='Energy xmax', min=1)"
      ]
     },
     "metadata": {},
     "output_type": "display_data"
    },
    {
     "data": {
      "application/vnd.jupyter.widget-view+json": {
       "model_id": "8d5b0240c8dd49b3a2825371f77aaf93",
       "version_major": 2,
       "version_minor": 0
      },
      "text/plain": [
       "Button(description='Generate', style=ButtonStyle())"
      ]
     },
     "metadata": {},
     "output_type": "display_data"
    },
    {
     "data": {
      "application/vnd.jupyter.widget-view+json": {
       "model_id": "d93162f77a1b4ba1a8e4c39a610282a2",
       "version_major": 2,
       "version_minor": 0
      },
      "text/plain": [
       "Button(description='Clear Output', style=ButtonStyle())"
      ]
     },
     "metadata": {},
     "output_type": "display_data"
    },
    {
     "data": {
      "application/vnd.jupyter.widget-view+json": {
       "model_id": "de666e24a5f94a32a74945e0e57292a6",
       "version_major": 2,
       "version_minor": 0
      },
      "text/plain": [
       "Output()"
      ]
     },
     "metadata": {},
     "output_type": "display_data"
    }
   ],
   "source": [
    "import ipywidgets as widgets\n",
    "from IPython.display import display, clear_output\n",
    "import torch\n",
    "from src.diffusion import SpacedDiffusion\n",
    "from src.modules import UNet_conditional\n",
    "from src.utils import plot_image_pairs, save_samples\n",
    "from metrics import create_sections_list, cosine_step_schedule\n",
    "\n",
    "# Define the widgets\n",
    "device_widget = widgets.Text(description=\"Device:\", value=\"cuda:1\")\n",
    "model_widget = widgets.Text(description=\"Model:\", value=\"1\")\n",
    "slider_n = widgets.IntSlider(description=\"n\", min=1, max=64, value=2)\n",
    "slider_e = widgets.IntSlider(description=\"Energy\", min=0, value=15)\n",
    "slider_p = widgets.IntSlider(description=\"Pressure\", min=0, value=15)\n",
    "slider_ms = widgets.IntSlider(description=\"Acquisition time\", min=1, value=20)\n",
    "slider_minx = widgets.IntSlider(description=\"Energy xmin\", min=1, max=100, value=2)\n",
    "slider_maxx = widgets.IntSlider(description=\"Energy xmax\", min=1, max=100, value=30)\n",
    "button = widgets.Button(description=\"Generate\")\n",
    "output = widgets.Output()\n",
    "clear_button = widgets.Button(description=\"Clear Output\")\n",
    "\n",
    "def clear_output_on_click(b):\n",
    "    with output:\n",
    "        clear_output()\n",
    "\n",
    "def generate(b):\n",
    "    model_name = model_widget.value\n",
    "    device = device_widget.value\n",
    "    n = slider_n.value\n",
    "    E = slider_e.value\n",
    "    P = slider_p.value\n",
    "    ms = slider_ms.value\n",
    "\n",
    "    xmin = slider_minx.value\n",
    "    xmax = slider_maxx.value\n",
    "    \n",
    "    with output:\n",
    "        if xmax <= xmin:\n",
    "            print(\"xmax must be above the value of xmin\")\n",
    "            return\n",
    "        if model_name == \"1\":\n",
    "            path = \"models/nophys/ema_ckpt.pt\"\n",
    "            print(\"Loading \", path)\n",
    "            model = UNet_conditional(img_width=128, img_height=64, feat_num=3, device=device).to(device)\n",
    "            ckpt = torch.load(path, map_location=device)\n",
    "            model.load_state_dict(ckpt)\n",
    "            sampler = SpacedDiffusion(beta_start=1e-4, beta_end=0.02, noise_steps=1000, section_counts=create_sections_list(10, 25, cosine_step_schedule), img_height=64, img_width=128, device=device, rescale_timesteps=False)\n",
    "            y = torch.Tensor([E,P,ms]).to(device).float().unsqueeze(0) # parameter vector\n",
    "            x = sampler.ddim_sample_loop(model=model, y=y, cfg_scale=1, device=device, eta=1, n=n)\n",
    "            plot_image_pairs(x, xlim=[xmin,xmax], acquisition_time_ms=ms, beam_point_y=128, beam_point_x=62, energy=E, pressure=P, model=1)\n",
    "        elif model_name ==\"2\":\n",
    "            path = \"models/cossched/ema_ckpt.pt\"\n",
    "            print(\"Loading \", path)\n",
    "            model = UNet_conditional(img_width=128, img_height=64, feat_num=3, device=device).to(device)\n",
    "            ckpt = torch.load(path, map_location=device)\n",
    "            model.load_state_dict(ckpt)\n",
    "            sampler = SpacedDiffusion(beta_start=1e-4, beta_end=0.02, noise_steps=1000, section_counts=[15], img_height=64, img_width=128, device=device, rescale_timesteps=False)\n",
    "            y = torch.Tensor([E,P,ms]).to(device).float().unsqueeze(0) # parameter vector\n",
    "            x = sampler.ddim_sample_loop(model=model, y=y, cfg_scale=1, device=device, eta=1, n=n)\n",
    "            plot_image_pairs(x, xlim=[xmin,xmax], acquisition_time_ms=ms, beam_point_y=128, beam_point_x=62, energy=E, pressure=P, model=2)\n",
    "\n",
    "\n",
    "# Link the button click to the function\n",
    "button.on_click(generate)\n",
    "clear_button.on_click(clear_output_on_click)\n",
    "\n",
    "# Display the widgets\n",
    "display(device_widget, model_widget, slider_n, slider_e, slider_p, slider_ms, slider_minx, slider_maxx, button, clear_button, output)\n"
   ]
  }
 ],
 "metadata": {
  "kernelspec": {
   "display_name": "eli",
   "language": "python",
   "name": "python3"
  },
  "language_info": {
   "codemirror_mode": {
    "name": "ipython",
    "version": 3
   },
   "file_extension": ".py",
   "mimetype": "text/x-python",
   "name": "python",
   "nbconvert_exporter": "python",
   "pygments_lexer": "ipython3",
   "version": "3.10.12"
  },
  "orig_nbformat": 4
 },
 "nbformat": 4,
 "nbformat_minor": 2
}
