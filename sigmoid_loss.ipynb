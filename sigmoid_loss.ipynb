{
 "cells": [
  {
   "cell_type": "code",
   "execution_count": 12,
   "id": "9d758abd",
   "metadata": {},
   "outputs": [],
   "source": [
    "import torch\n",
    "from torchvision import transforms\n",
    "from PIL import Image\n",
    "import matplotlib.pyplot as plt"
   ]
  },
  {
   "cell_type": "code",
   "execution_count": 15,
   "id": "6822f052",
   "metadata": {},
   "outputs": [],
   "source": [
    "def sigmoid(x: int,\n",
    "            scaling: float = 2,\n",
    "            shift: float = 0,\n",
    "            ) -> float:\n",
    "    return (1 + torch.exp(-x*scaling + shift))**-1\n",
    "\n",
    "def sigmoid_loss(x: torch.Tensor) -> torch.Tensor:\n",
    "    pixel_in_mm = 0.137\n",
    "    el_pointing = 62\n",
    "    distance = torch.arange(-el_pointing, x.shape[1]-el_pointing) * pixel_in_mm\n",
    "    sig = sigmoid(distance)\n",
    "    return x*sig"
   ]
  },
  {
   "cell_type": "code",
   "execution_count": 10,
   "id": "ced88dfd",
   "metadata": {},
   "outputs": [],
   "source": [
    "def sigmoid_loss(x: torch.Tensor, el_pointing=64, pixel_in_mm=0.137, device='cpu') -> torch.Tensor:\n",
    "    distance = torch.arange(-el_pointing, x.shape[-1]-el_pointing, device=device) * pixel_in_mm\n",
    "    sig = sigmoid(distance).to(device)\n",
    "    return x*sig"
   ]
  },
  {
   "cell_type": "code",
   "execution_count": 16,
   "id": "efd19e0d",
   "metadata": {},
   "outputs": [
    {
     "data": {
      "text/plain": [
       "<matplotlib.image.AxesImage at 0x7f9587d1c9d0>"
      ]
     },
     "execution_count": 16,
     "metadata": {},
     "output_type": "execute_result"
    },
    {
     "data": {
      "image/png": "[encoded data removed]",
      "text/plain": [
       "<Figure size 1000x500 with 2 Axes>"
      ]
     },
     "metadata": {},
     "output_type": "display_data"
    }
   ],
   "source": [
    "# path = \"results/2nd_phys_spec_1000ns/5.png\" # torch.ones(256, 256)\n",
    "# transform = transforms.ToTensor()\n",
    "# image = Image.open(path)\n",
    "# input = transform(image).squeeze()\n",
    "input = torch.ones((256,512))\n",
    "\n",
    "output = sigmoid_loss(input)\n",
    "fig, axs = plt.subplots(1, 2, figsize=(10, 5))\n",
    "axs[0].imshow(input, vmin=0, vmax=1)\n",
    "axs[1].imshow(output, vmin=0, vmax=1)"
   ]
  }
 ],
 "metadata": {
  "kernelspec": {
   "display_name": "Python 3 (ipykernel)",
   "language": "python",
   "name": "python3"
  },
  "language_info": {
   "codemirror_mode": {
    "name": "ipython",
    "version": 3
   },
   "file_extension": ".py",
   "mimetype": "text/x-python",
   "name": "python",
   "nbconvert_exporter": "python",
   "pygments_lexer": "ipython3",
   "version": "3.10.12"
  }
 },
 "nbformat": 4,
 "nbformat_minor": 5
}
