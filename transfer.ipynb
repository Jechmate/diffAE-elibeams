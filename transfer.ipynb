{
 "cells": [
  {
   "cell_type": "code",
   "execution_count": 1,
   "metadata": {},
   "outputs": [
    {
     "name": "stderr",
     "output_type": "stream",
     "text": [
      "/home/jechmate/anaconda3/envs/eli/lib/python3.10/site-packages/tqdm/auto.py:21: TqdmWarning: IProgress not found. Please update jupyter and ipywidgets. See https://ipywidgets.readthedocs.io/en/stable/user_install.html\n",
      "  from .autonotebook import tqdm as notebook_tqdm\n"
     ]
    }
   ],
   "source": [
    "from src.modules import *\n",
    "import pickle\n",
    "import os"
   ]
  },
  {
   "cell_type": "code",
   "execution_count": 2,
   "metadata": {},
   "outputs": [],
   "source": [
    "device = 'cuda:3'"
   ]
  },
  {
   "cell_type": "code",
   "execution_count": 3,
   "metadata": {},
   "outputs": [],
   "source": [
    "diffAE = UNet_conditional(img_width=128, img_height=64, feat_num=128, device=device).to(device)\n",
    "sem_mod = SemEncoder(img_width=128, img_height=64, feat_num=3, device=device).to(device)\n",
    "with open('models/edm-imagenet-64x64-cond-adm.pkl', 'rb') as f:\n",
    "    edm = pickle.load(f)[\"ema\"].model"
   ]
  },
  {
   "cell_type": "code",
   "execution_count": 4,
   "metadata": {},
   "outputs": [],
   "source": [
    "def generate_indices(length, max_value):\n",
    "    # Create a tensor of unique values\n",
    "    unique_values = torch.arange(max_value)\n",
    "    \n",
    "    # Calculate the number of repetitions needed\n",
    "    num_repetitions = length - max_value\n",
    "    \n",
    "    # Generate random indices\n",
    "    repetitions = torch.randint(high=max_value, size=(num_repetitions,))\n",
    "    \n",
    "    # Concatenate the unique values and repetitions\n",
    "    indices = torch.cat((unique_values, repetitions))\n",
    "    \n",
    "    return indices\n",
    "\n",
    "def load_weights(src_layer, dst_layer):\n",
    "    indices = []\n",
    "    if len(src_layer.weight.shape) != len(dst_layer.weight.shape):\n",
    "        print(\"Source layer has \", len(src_layer.shape), \" dimensions, but destination layer has \", len(dst_layer.shape), \" dimensions.\")\n",
    "        return\n",
    "    for idx in range(len(dst_layer.weight.shape)):\n",
    "        if dst_layer.weight.shape[idx] > src_layer.weight.shape[idx]:\n",
    "            indices.append(generate_indices(dst_layer.weight.shape[idx], src_layer.weight.shape[idx]))\n",
    "        elif dst_layer.weight.shape[idx] < src_layer.weight.shape[idx]:\n",
    "            # print(src_layer.weight.shape[idx])\n",
    "            indices.append(torch.randperm(src_layer.weight.shape[idx])[:dst_layer.weight.shape[idx]])\n",
    "        else:\n",
    "            indices.append(torch.arange(0, src_layer.weight.shape[idx], dtype=int))\n",
    "    extracted_weights = torch.nn.Parameter(src_layer.weight[indices[0]][:,indices[1]][:,:,indices[2]][:,:,:,indices[3]])\n",
    "    dst_layer.weight = extracted_weights\n",
    "    return dst_layer"
   ]
  },
  {
   "cell_type": "markdown",
   "metadata": {},
   "source": [
    "# for 2 blocks\n",
    "layers = [  diffAE.inc.double_conv[0],                            edm.enc[\"64x64_conv\"],\n",
    "            diffAE.inc.double_conv[3],                            edm.enc[\"64x64_block0\"].conv0,\n",
    "            diffAE.down1.maxpool_conv[1].double_conv[0],          edm.enc[\"64x64_block0\"].conv1,\n",
    "            diffAE.down1.maxpool_conv[1].double_conv[3],          edm.enc[\"64x64_block1\"].conv0,\n",
    "            diffAE.down1.maxpool_conv[2].double_conv[0],          edm.enc[\"64x64_block1\"].conv1,\n",
    "            diffAE.down1.maxpool_conv[2].double_conv[3],          edm.enc[\"64x64_block2\"].conv0,\n",
    "            diffAE.down2.maxpool_conv[1].double_conv[0],          edm.enc[\"64x64_block2\"].conv1,\n",
    "            diffAE.down2.maxpool_conv[1].double_conv[3],          edm.enc[\"32x32_down\"].conv0,\n",
    "            diffAE.down2.maxpool_conv[2].double_conv[0],          edm.enc[\"32x32_down\"].conv1,  # dim 0 mismatch\n",
    "            diffAE.down2.maxpool_conv[2].double_conv[3],          edm.enc[\"32x32_block0\"].conv0, # dim 1 mismatch\n",
    "            diffAE.bot1.double_conv[0],                           edm.dec[\"8x8_in0\"].conv0,\n",
    "            diffAE.bot1.double_conv[3],                           edm.dec[\"8x8_in0\"].conv1,\n",
    "            diffAE.bot2.double_conv[0],                           edm.dec[\"8x8_in1\"].conv0,\n",
    "            diffAE.bot2.double_conv[3],                           edm.dec[\"8x8_in1\"].conv1, \n",
    "            diffAE.bot3.double_conv[0],                           edm.dec[\"8x8_block0\"].conv0,\n",
    "            diffAE.bot3.double_conv[3],                           edm.dec[\"8x8_block0\"].conv1,\n",
    "            diffAE.up1.conv[0].double_conv[0],                    edm.dec[\"64x64_block0\"].conv0,\n",
    "            diffAE.up1.conv[0].double_conv[3],                    edm.dec[\"64x64_block0\"].conv1,\n",
    "            diffAE.up1.conv[1].double_conv[0],                    edm.dec[\"64x64_block1\"].conv0,\n",
    "            diffAE.up1.conv[1].double_conv[3],                    edm.dec[\"64x64_block1\"].conv1,\n",
    "            diffAE.up2.conv[0].double_conv[0],                    edm.dec[\"64x64_block2\"].conv0,\n",
    "            diffAE.up2.conv[0].double_conv[3],                    edm.dec[\"64x64_block2\"].conv1,\n",
    "            diffAE.up2.conv[1].double_conv[0],                    edm.dec[\"64x64_block3\"].conv0,\n",
    "            diffAE.up2.conv[1].double_conv[3],                    edm.dec[\"64x64_block3\"].conv1,\n",
    "            diffAE.outc,                                          edm.out_conv,\n",
    "]\n",
    "src_layers = layers[1::2]\n",
    "dst_layers = layers[::2]"
   ]
  },
  {
   "cell_type": "code",
   "execution_count": 5,
   "metadata": {},
   "outputs": [
    {
     "ename": "AttributeError",
     "evalue": "'Sequential' object has no attribute 'conv'",
     "output_type": "error",
     "traceback": [
      "\u001b[0;31m---------------------------------------------------------------------------\u001b[0m",
      "\u001b[0;31mAttributeError\u001b[0m                            Traceback (most recent call last)",
      "\u001b[1;32m/home/jechmate/diffAE-elibeams/transfer.ipynb Cell 6\u001b[0m line \u001b[0;36m3\n\u001b[1;32m      <a href='vscode-notebook-cell://ssh-remote%2Bdgx/home/jechmate/diffAE-elibeams/transfer.ipynb#W5sdnNjb2RlLXJlbW90ZQ%3D%3D?line=0'>1</a>\u001b[0m \u001b[39m# for 3 blocks\u001b[39;00m\n\u001b[1;32m      <a href='vscode-notebook-cell://ssh-remote%2Bdgx/home/jechmate/diffAE-elibeams/transfer.ipynb#W5sdnNjb2RlLXJlbW90ZQ%3D%3D?line=1'>2</a>\u001b[0m layers \u001b[39m=\u001b[39m [  diffAE\u001b[39m.\u001b[39minc\u001b[39m.\u001b[39mdouble_conv[\u001b[39m0\u001b[39m],                            edm\u001b[39m.\u001b[39menc[\u001b[39m\"\u001b[39m\u001b[39m64x64_conv\u001b[39m\u001b[39m\"\u001b[39m],\n\u001b[1;32m      <a href='vscode-notebook-cell://ssh-remote%2Bdgx/home/jechmate/diffAE-elibeams/transfer.ipynb#W5sdnNjb2RlLXJlbW90ZQ%3D%3D?line=2'>3</a>\u001b[0m             diffAE\u001b[39m.\u001b[39minc\u001b[39m.\u001b[39mdouble_conv[\u001b[39m3\u001b[39m],                            edm\u001b[39m.\u001b[39menc[\u001b[39m\"\u001b[39m\u001b[39m64x64_block0\u001b[39m\u001b[39m\"\u001b[39m]\u001b[39m.\u001b[39mconv0,\n\u001b[1;32m      <a href='vscode-notebook-cell://ssh-remote%2Bdgx/home/jechmate/diffAE-elibeams/transfer.ipynb#W5sdnNjb2RlLXJlbW90ZQ%3D%3D?line=3'>4</a>\u001b[0m             diffAE\u001b[39m.\u001b[39mdown1\u001b[39m.\u001b[39mmaxpool_conv[\u001b[39m1\u001b[39m]\u001b[39m.\u001b[39mdouble_conv[\u001b[39m0\u001b[39m],          edm\u001b[39m.\u001b[39menc[\u001b[39m\"\u001b[39m\u001b[39m64x64_block0\u001b[39m\u001b[39m\"\u001b[39m]\u001b[39m.\u001b[39mconv1,\n\u001b[1;32m      <a href='vscode-notebook-cell://ssh-remote%2Bdgx/home/jechmate/diffAE-elibeams/transfer.ipynb#W5sdnNjb2RlLXJlbW90ZQ%3D%3D?line=4'>5</a>\u001b[0m             diffAE\u001b[39m.\u001b[39mdown1\u001b[39m.\u001b[39mmaxpool_conv[\u001b[39m1\u001b[39m]\u001b[39m.\u001b[39mdouble_conv[\u001b[39m3\u001b[39m],          edm\u001b[39m.\u001b[39menc[\u001b[39m\"\u001b[39m\u001b[39m64x64_block1\u001b[39m\u001b[39m\"\u001b[39m]\u001b[39m.\u001b[39mconv0,\n\u001b[1;32m      <a href='vscode-notebook-cell://ssh-remote%2Bdgx/home/jechmate/diffAE-elibeams/transfer.ipynb#W5sdnNjb2RlLXJlbW90ZQ%3D%3D?line=5'>6</a>\u001b[0m             diffAE\u001b[39m.\u001b[39mdown1\u001b[39m.\u001b[39mmaxpool_conv[\u001b[39m2\u001b[39m]\u001b[39m.\u001b[39mdouble_conv[\u001b[39m0\u001b[39m],          edm\u001b[39m.\u001b[39menc[\u001b[39m\"\u001b[39m\u001b[39m64x64_block1\u001b[39m\u001b[39m\"\u001b[39m]\u001b[39m.\u001b[39mconv1,\n\u001b[1;32m      <a href='vscode-notebook-cell://ssh-remote%2Bdgx/home/jechmate/diffAE-elibeams/transfer.ipynb#W5sdnNjb2RlLXJlbW90ZQ%3D%3D?line=6'>7</a>\u001b[0m             diffAE\u001b[39m.\u001b[39mdown1\u001b[39m.\u001b[39mmaxpool_conv[\u001b[39m2\u001b[39m]\u001b[39m.\u001b[39mdouble_conv[\u001b[39m3\u001b[39m],          edm\u001b[39m.\u001b[39menc[\u001b[39m\"\u001b[39m\u001b[39m64x64_block2\u001b[39m\u001b[39m\"\u001b[39m]\u001b[39m.\u001b[39mconv0,\n\u001b[1;32m      <a href='vscode-notebook-cell://ssh-remote%2Bdgx/home/jechmate/diffAE-elibeams/transfer.ipynb#W5sdnNjb2RlLXJlbW90ZQ%3D%3D?line=7'>8</a>\u001b[0m             diffAE\u001b[39m.\u001b[39mdown2\u001b[39m.\u001b[39mmaxpool_conv[\u001b[39m1\u001b[39m]\u001b[39m.\u001b[39mdouble_conv[\u001b[39m0\u001b[39m],          edm\u001b[39m.\u001b[39menc[\u001b[39m\"\u001b[39m\u001b[39m64x64_block2\u001b[39m\u001b[39m\"\u001b[39m]\u001b[39m.\u001b[39mconv1,\n\u001b[1;32m      <a href='vscode-notebook-cell://ssh-remote%2Bdgx/home/jechmate/diffAE-elibeams/transfer.ipynb#W5sdnNjb2RlLXJlbW90ZQ%3D%3D?line=8'>9</a>\u001b[0m             diffAE\u001b[39m.\u001b[39mdown2\u001b[39m.\u001b[39mmaxpool_conv[\u001b[39m1\u001b[39m]\u001b[39m.\u001b[39mdouble_conv[\u001b[39m3\u001b[39m],          edm\u001b[39m.\u001b[39menc[\u001b[39m\"\u001b[39m\u001b[39m32x32_down\u001b[39m\u001b[39m\"\u001b[39m]\u001b[39m.\u001b[39mconv0,\n\u001b[1;32m     <a href='vscode-notebook-cell://ssh-remote%2Bdgx/home/jechmate/diffAE-elibeams/transfer.ipynb#W5sdnNjb2RlLXJlbW90ZQ%3D%3D?line=9'>10</a>\u001b[0m             diffAE\u001b[39m.\u001b[39mdown2\u001b[39m.\u001b[39mmaxpool_conv[\u001b[39m2\u001b[39m]\u001b[39m.\u001b[39mdouble_conv[\u001b[39m0\u001b[39m],          edm\u001b[39m.\u001b[39menc[\u001b[39m\"\u001b[39m\u001b[39m32x32_down\u001b[39m\u001b[39m\"\u001b[39m]\u001b[39m.\u001b[39mconv1,  \u001b[39m# dim 0 mismatch\u001b[39;00m\n\u001b[1;32m     <a href='vscode-notebook-cell://ssh-remote%2Bdgx/home/jechmate/diffAE-elibeams/transfer.ipynb#W5sdnNjb2RlLXJlbW90ZQ%3D%3D?line=10'>11</a>\u001b[0m             diffAE\u001b[39m.\u001b[39mdown2\u001b[39m.\u001b[39mmaxpool_conv[\u001b[39m2\u001b[39m]\u001b[39m.\u001b[39mdouble_conv[\u001b[39m3\u001b[39m],          edm\u001b[39m.\u001b[39menc[\u001b[39m\"\u001b[39m\u001b[39m32x32_block0\u001b[39m\u001b[39m\"\u001b[39m]\u001b[39m.\u001b[39mconv0, \u001b[39m# dim 1 mismatch\u001b[39;00m\n\u001b[1;32m     <a href='vscode-notebook-cell://ssh-remote%2Bdgx/home/jechmate/diffAE-elibeams/transfer.ipynb#W5sdnNjb2RlLXJlbW90ZQ%3D%3D?line=11'>12</a>\u001b[0m             diffAE\u001b[39m.\u001b[39mdown3\u001b[39m.\u001b[39mmaxpool_conv[\u001b[39m1\u001b[39m]\u001b[39m.\u001b[39mdouble_conv[\u001b[39m0\u001b[39m],          edm\u001b[39m.\u001b[39menc[\u001b[39m\"\u001b[39m\u001b[39m32x32_block0\u001b[39m\u001b[39m\"\u001b[39m]\u001b[39m.\u001b[39mconv1,\n\u001b[1;32m     <a href='vscode-notebook-cell://ssh-remote%2Bdgx/home/jechmate/diffAE-elibeams/transfer.ipynb#W5sdnNjb2RlLXJlbW90ZQ%3D%3D?line=12'>13</a>\u001b[0m             diffAE\u001b[39m.\u001b[39mdown3\u001b[39m.\u001b[39mmaxpool_conv[\u001b[39m1\u001b[39m]\u001b[39m.\u001b[39mdouble_conv[\u001b[39m3\u001b[39m],          edm\u001b[39m.\u001b[39menc[\u001b[39m\"\u001b[39m\u001b[39m32x32_block1\u001b[39m\u001b[39m\"\u001b[39m]\u001b[39m.\u001b[39mconv0,\n\u001b[1;32m     <a href='vscode-notebook-cell://ssh-remote%2Bdgx/home/jechmate/diffAE-elibeams/transfer.ipynb#W5sdnNjb2RlLXJlbW90ZQ%3D%3D?line=13'>14</a>\u001b[0m             diffAE\u001b[39m.\u001b[39mdown3\u001b[39m.\u001b[39mmaxpool_conv[\u001b[39m2\u001b[39m]\u001b[39m.\u001b[39mdouble_conv[\u001b[39m0\u001b[39m],          edm\u001b[39m.\u001b[39menc[\u001b[39m\"\u001b[39m\u001b[39m32x32_block1\u001b[39m\u001b[39m\"\u001b[39m]\u001b[39m.\u001b[39mconv1,\n\u001b[1;32m     <a href='vscode-notebook-cell://ssh-remote%2Bdgx/home/jechmate/diffAE-elibeams/transfer.ipynb#W5sdnNjb2RlLXJlbW90ZQ%3D%3D?line=14'>15</a>\u001b[0m             diffAE\u001b[39m.\u001b[39mdown3\u001b[39m.\u001b[39mmaxpool_conv[\u001b[39m2\u001b[39m]\u001b[39m.\u001b[39mdouble_conv[\u001b[39m3\u001b[39m],          edm\u001b[39m.\u001b[39menc[\u001b[39m\"\u001b[39m\u001b[39m32x32_block2\u001b[39m\u001b[39m\"\u001b[39m]\u001b[39m.\u001b[39mconv0,\n\u001b[1;32m     <a href='vscode-notebook-cell://ssh-remote%2Bdgx/home/jechmate/diffAE-elibeams/transfer.ipynb#W5sdnNjb2RlLXJlbW90ZQ%3D%3D?line=15'>16</a>\u001b[0m             diffAE\u001b[39m.\u001b[39mbot1\u001b[39m.\u001b[39mdouble_conv[\u001b[39m0\u001b[39m],                           edm\u001b[39m.\u001b[39mdec[\u001b[39m\"\u001b[39m\u001b[39m8x8_in0\u001b[39m\u001b[39m\"\u001b[39m]\u001b[39m.\u001b[39mconv0,\n\u001b[1;32m     <a href='vscode-notebook-cell://ssh-remote%2Bdgx/home/jechmate/diffAE-elibeams/transfer.ipynb#W5sdnNjb2RlLXJlbW90ZQ%3D%3D?line=16'>17</a>\u001b[0m             diffAE\u001b[39m.\u001b[39mbot1\u001b[39m.\u001b[39mdouble_conv[\u001b[39m3\u001b[39m],                           edm\u001b[39m.\u001b[39mdec[\u001b[39m\"\u001b[39m\u001b[39m8x8_in0\u001b[39m\u001b[39m\"\u001b[39m]\u001b[39m.\u001b[39mconv1,\n\u001b[1;32m     <a href='vscode-notebook-cell://ssh-remote%2Bdgx/home/jechmate/diffAE-elibeams/transfer.ipynb#W5sdnNjb2RlLXJlbW90ZQ%3D%3D?line=17'>18</a>\u001b[0m             diffAE\u001b[39m.\u001b[39mbot2\u001b[39m.\u001b[39mdouble_conv[\u001b[39m0\u001b[39m],                           edm\u001b[39m.\u001b[39mdec[\u001b[39m\"\u001b[39m\u001b[39m8x8_in1\u001b[39m\u001b[39m\"\u001b[39m]\u001b[39m.\u001b[39mconv0,\n\u001b[1;32m     <a href='vscode-notebook-cell://ssh-remote%2Bdgx/home/jechmate/diffAE-elibeams/transfer.ipynb#W5sdnNjb2RlLXJlbW90ZQ%3D%3D?line=18'>19</a>\u001b[0m             diffAE\u001b[39m.\u001b[39mbot2\u001b[39m.\u001b[39mdouble_conv[\u001b[39m3\u001b[39m],                           edm\u001b[39m.\u001b[39mdec[\u001b[39m\"\u001b[39m\u001b[39m8x8_in1\u001b[39m\u001b[39m\"\u001b[39m]\u001b[39m.\u001b[39mconv1, \n\u001b[1;32m     <a href='vscode-notebook-cell://ssh-remote%2Bdgx/home/jechmate/diffAE-elibeams/transfer.ipynb#W5sdnNjb2RlLXJlbW90ZQ%3D%3D?line=19'>20</a>\u001b[0m             diffAE\u001b[39m.\u001b[39mbot3\u001b[39m.\u001b[39mdouble_conv[\u001b[39m0\u001b[39m],                           edm\u001b[39m.\u001b[39mdec[\u001b[39m\"\u001b[39m\u001b[39m8x8_block0\u001b[39m\u001b[39m\"\u001b[39m]\u001b[39m.\u001b[39mconv0,\n\u001b[1;32m     <a href='vscode-notebook-cell://ssh-remote%2Bdgx/home/jechmate/diffAE-elibeams/transfer.ipynb#W5sdnNjb2RlLXJlbW90ZQ%3D%3D?line=20'>21</a>\u001b[0m             diffAE\u001b[39m.\u001b[39mbot3\u001b[39m.\u001b[39mdouble_conv[\u001b[39m3\u001b[39m],                           edm\u001b[39m.\u001b[39mdec[\u001b[39m\"\u001b[39m\u001b[39m8x8_block0\u001b[39m\u001b[39m\"\u001b[39m]\u001b[39m.\u001b[39mconv1,\n\u001b[1;32m     <a href='vscode-notebook-cell://ssh-remote%2Bdgx/home/jechmate/diffAE-elibeams/transfer.ipynb#W5sdnNjb2RlLXJlbW90ZQ%3D%3D?line=21'>22</a>\u001b[0m             diffAE\u001b[39m.\u001b[39mup1\u001b[39m.\u001b[39mconv[\u001b[39m0\u001b[39m]\u001b[39m.\u001b[39mdouble_conv[\u001b[39m0\u001b[39m],                    edm\u001b[39m.\u001b[39mdec[\u001b[39m\"\u001b[39m\u001b[39m32x32_block1\u001b[39m\u001b[39m\"\u001b[39m]\u001b[39m.\u001b[39mconv0,\n\u001b[1;32m     <a href='vscode-notebook-cell://ssh-remote%2Bdgx/home/jechmate/diffAE-elibeams/transfer.ipynb#W5sdnNjb2RlLXJlbW90ZQ%3D%3D?line=22'>23</a>\u001b[0m             diffAE\u001b[39m.\u001b[39mup1\u001b[39m.\u001b[39mconv[\u001b[39m0\u001b[39m]\u001b[39m.\u001b[39mdouble_conv[\u001b[39m3\u001b[39m],                    edm\u001b[39m.\u001b[39mdec[\u001b[39m\"\u001b[39m\u001b[39m32x32_block1\u001b[39m\u001b[39m\"\u001b[39m]\u001b[39m.\u001b[39mconv1,\n\u001b[1;32m     <a href='vscode-notebook-cell://ssh-remote%2Bdgx/home/jechmate/diffAE-elibeams/transfer.ipynb#W5sdnNjb2RlLXJlbW90ZQ%3D%3D?line=23'>24</a>\u001b[0m             diffAE\u001b[39m.\u001b[39mup1\u001b[39m.\u001b[39mconv[\u001b[39m1\u001b[39m]\u001b[39m.\u001b[39mdouble_conv[\u001b[39m0\u001b[39m],                    edm\u001b[39m.\u001b[39mdec[\u001b[39m\"\u001b[39m\u001b[39m32x32_block2\u001b[39m\u001b[39m\"\u001b[39m]\u001b[39m.\u001b[39mconv0,\n\u001b[1;32m     <a href='vscode-notebook-cell://ssh-remote%2Bdgx/home/jechmate/diffAE-elibeams/transfer.ipynb#W5sdnNjb2RlLXJlbW90ZQ%3D%3D?line=24'>25</a>\u001b[0m             diffAE\u001b[39m.\u001b[39mup1\u001b[39m.\u001b[39mconv[\u001b[39m1\u001b[39m]\u001b[39m.\u001b[39mdouble_conv[\u001b[39m3\u001b[39m],                    edm\u001b[39m.\u001b[39mdec[\u001b[39m\"\u001b[39m\u001b[39m32x32_block2\u001b[39m\u001b[39m\"\u001b[39m]\u001b[39m.\u001b[39mconv1,\n\u001b[1;32m     <a href='vscode-notebook-cell://ssh-remote%2Bdgx/home/jechmate/diffAE-elibeams/transfer.ipynb#W5sdnNjb2RlLXJlbW90ZQ%3D%3D?line=25'>26</a>\u001b[0m             diffAE\u001b[39m.\u001b[39mup2\u001b[39m.\u001b[39mconv[\u001b[39m0\u001b[39m]\u001b[39m.\u001b[39mdouble_conv[\u001b[39m0\u001b[39m],                    edm\u001b[39m.\u001b[39mdec[\u001b[39m\"\u001b[39m\u001b[39m32x32_block3\u001b[39m\u001b[39m\"\u001b[39m]\u001b[39m.\u001b[39mconv0,\n\u001b[1;32m     <a href='vscode-notebook-cell://ssh-remote%2Bdgx/home/jechmate/diffAE-elibeams/transfer.ipynb#W5sdnNjb2RlLXJlbW90ZQ%3D%3D?line=26'>27</a>\u001b[0m             diffAE\u001b[39m.\u001b[39mup2\u001b[39m.\u001b[39mconv[\u001b[39m0\u001b[39m]\u001b[39m.\u001b[39mdouble_conv[\u001b[39m3\u001b[39m],                    edm\u001b[39m.\u001b[39mdec[\u001b[39m\"\u001b[39m\u001b[39m32x32_block3\u001b[39m\u001b[39m\"\u001b[39m]\u001b[39m.\u001b[39mconv1,\n\u001b[1;32m     <a href='vscode-notebook-cell://ssh-remote%2Bdgx/home/jechmate/diffAE-elibeams/transfer.ipynb#W5sdnNjb2RlLXJlbW90ZQ%3D%3D?line=27'>28</a>\u001b[0m             diffAE\u001b[39m.\u001b[39mup2\u001b[39m.\u001b[39mconv[\u001b[39m1\u001b[39m]\u001b[39m.\u001b[39mdouble_conv[\u001b[39m0\u001b[39m],                    edm\u001b[39m.\u001b[39mdec[\u001b[39m\"\u001b[39m\u001b[39m64x64_up\u001b[39m\u001b[39m\"\u001b[39m]\u001b[39m.\u001b[39mconv0,\n\u001b[1;32m     <a href='vscode-notebook-cell://ssh-remote%2Bdgx/home/jechmate/diffAE-elibeams/transfer.ipynb#W5sdnNjb2RlLXJlbW90ZQ%3D%3D?line=28'>29</a>\u001b[0m             diffAE\u001b[39m.\u001b[39mup2\u001b[39m.\u001b[39mconv[\u001b[39m1\u001b[39m]\u001b[39m.\u001b[39mdouble_conv[\u001b[39m3\u001b[39m],                    edm\u001b[39m.\u001b[39mdec[\u001b[39m\"\u001b[39m\u001b[39m64x64_up\u001b[39m\u001b[39m\"\u001b[39m]\u001b[39m.\u001b[39mconv1,\n\u001b[1;32m     <a href='vscode-notebook-cell://ssh-remote%2Bdgx/home/jechmate/diffAE-elibeams/transfer.ipynb#W5sdnNjb2RlLXJlbW90ZQ%3D%3D?line=29'>30</a>\u001b[0m             diffAE\u001b[39m.\u001b[39mup3\u001b[39m.\u001b[39mconv[\u001b[39m0\u001b[39m]\u001b[39m.\u001b[39mdouble_conv[\u001b[39m0\u001b[39m],                    edm\u001b[39m.\u001b[39mdec[\u001b[39m\"\u001b[39m\u001b[39m64x64_block0\u001b[39m\u001b[39m\"\u001b[39m]\u001b[39m.\u001b[39mconv0,\n\u001b[1;32m     <a href='vscode-notebook-cell://ssh-remote%2Bdgx/home/jechmate/diffAE-elibeams/transfer.ipynb#W5sdnNjb2RlLXJlbW90ZQ%3D%3D?line=30'>31</a>\u001b[0m             diffAE\u001b[39m.\u001b[39mup3\u001b[39m.\u001b[39mconv[\u001b[39m0\u001b[39m]\u001b[39m.\u001b[39mdouble_conv[\u001b[39m3\u001b[39m],                    edm\u001b[39m.\u001b[39mdec[\u001b[39m\"\u001b[39m\u001b[39m64x64_block0\u001b[39m\u001b[39m\"\u001b[39m]\u001b[39m.\u001b[39mconv1,\n\u001b[1;32m     <a href='vscode-notebook-cell://ssh-remote%2Bdgx/home/jechmate/diffAE-elibeams/transfer.ipynb#W5sdnNjb2RlLXJlbW90ZQ%3D%3D?line=31'>32</a>\u001b[0m             diffAE\u001b[39m.\u001b[39mup3\u001b[39m.\u001b[39mconv[\u001b[39m1\u001b[39m]\u001b[39m.\u001b[39mdouble_conv[\u001b[39m0\u001b[39m],                    edm\u001b[39m.\u001b[39mdec[\u001b[39m\"\u001b[39m\u001b[39m64x64_block1\u001b[39m\u001b[39m\"\u001b[39m]\u001b[39m.\u001b[39mconv0,\n\u001b[1;32m     <a href='vscode-notebook-cell://ssh-remote%2Bdgx/home/jechmate/diffAE-elibeams/transfer.ipynb#W5sdnNjb2RlLXJlbW90ZQ%3D%3D?line=32'>33</a>\u001b[0m             diffAE\u001b[39m.\u001b[39mup3\u001b[39m.\u001b[39mconv[\u001b[39m1\u001b[39m]\u001b[39m.\u001b[39mdouble_conv[\u001b[39m3\u001b[39m],                    edm\u001b[39m.\u001b[39mdec[\u001b[39m\"\u001b[39m\u001b[39m64x64_block1\u001b[39m\u001b[39m\"\u001b[39m]\u001b[39m.\u001b[39mconv1,\n\u001b[0;32m---> <a href='vscode-notebook-cell://ssh-remote%2Bdgx/home/jechmate/diffAE-elibeams/transfer.ipynb#W5sdnNjb2RlLXJlbW90ZQ%3D%3D?line=33'>34</a>\u001b[0m             diffAE\u001b[39m.\u001b[39;49moutc\u001b[39m.\u001b[39;49mconv[\u001b[39m0\u001b[39m],                                  edm\u001b[39m.\u001b[39mout_conv,\n\u001b[1;32m     <a href='vscode-notebook-cell://ssh-remote%2Bdgx/home/jechmate/diffAE-elibeams/transfer.ipynb#W5sdnNjb2RlLXJlbW90ZQ%3D%3D?line=34'>35</a>\u001b[0m ]\n\u001b[1;32m     <a href='vscode-notebook-cell://ssh-remote%2Bdgx/home/jechmate/diffAE-elibeams/transfer.ipynb#W5sdnNjb2RlLXJlbW90ZQ%3D%3D?line=36'>37</a>\u001b[0m layers_sem \u001b[39m=\u001b[39m [  sem_mod\u001b[39m.\u001b[39minc\u001b[39m.\u001b[39mdouble_conv[\u001b[39m0\u001b[39m],                            edm\u001b[39m.\u001b[39menc[\u001b[39m\"\u001b[39m\u001b[39m64x64_conv\u001b[39m\u001b[39m\"\u001b[39m],\n\u001b[1;32m     <a href='vscode-notebook-cell://ssh-remote%2Bdgx/home/jechmate/diffAE-elibeams/transfer.ipynb#W5sdnNjb2RlLXJlbW90ZQ%3D%3D?line=37'>38</a>\u001b[0m             sem_mod\u001b[39m.\u001b[39minc\u001b[39m.\u001b[39mdouble_conv[\u001b[39m3\u001b[39m],                            edm\u001b[39m.\u001b[39menc[\u001b[39m\"\u001b[39m\u001b[39m64x64_block0\u001b[39m\u001b[39m\"\u001b[39m]\u001b[39m.\u001b[39mconv0,\n\u001b[1;32m     <a href='vscode-notebook-cell://ssh-remote%2Bdgx/home/jechmate/diffAE-elibeams/transfer.ipynb#W5sdnNjb2RlLXJlbW90ZQ%3D%3D?line=38'>39</a>\u001b[0m             sem_mod\u001b[39m.\u001b[39mdown1\u001b[39m.\u001b[39mmaxpool_conv[\u001b[39m1\u001b[39m]\u001b[39m.\u001b[39mdouble_conv[\u001b[39m0\u001b[39m],          edm\u001b[39m.\u001b[39menc[\u001b[39m\"\u001b[39m\u001b[39m64x64_block0\u001b[39m\u001b[39m\"\u001b[39m]\u001b[39m.\u001b[39mconv1,\n\u001b[0;32m   (...)\u001b[0m\n\u001b[1;32m     <a href='vscode-notebook-cell://ssh-remote%2Bdgx/home/jechmate/diffAE-elibeams/transfer.ipynb#W5sdnNjb2RlLXJlbW90ZQ%3D%3D?line=49'>50</a>\u001b[0m             sem_mod\u001b[39m.\u001b[39mdown3\u001b[39m.\u001b[39mmaxpool_conv[\u001b[39m2\u001b[39m]\u001b[39m.\u001b[39mdouble_conv[\u001b[39m3\u001b[39m],          edm\u001b[39m.\u001b[39menc[\u001b[39m\"\u001b[39m\u001b[39m32x32_block2\u001b[39m\u001b[39m\"\u001b[39m]\u001b[39m.\u001b[39mconv0,\n\u001b[1;32m     <a href='vscode-notebook-cell://ssh-remote%2Bdgx/home/jechmate/diffAE-elibeams/transfer.ipynb#W5sdnNjb2RlLXJlbW90ZQ%3D%3D?line=50'>51</a>\u001b[0m ]\n\u001b[1;32m     <a href='vscode-notebook-cell://ssh-remote%2Bdgx/home/jechmate/diffAE-elibeams/transfer.ipynb#W5sdnNjb2RlLXJlbW90ZQ%3D%3D?line=51'>52</a>\u001b[0m src_layers \u001b[39m=\u001b[39m layers[\u001b[39m1\u001b[39m::\u001b[39m2\u001b[39m]\n",
      "File \u001b[0;32m~/anaconda3/envs/eli/lib/python3.10/site-packages/torch/nn/modules/module.py:1265\u001b[0m, in \u001b[0;36mModule.__getattr__\u001b[0;34m(self, name)\u001b[0m\n\u001b[1;32m   1263\u001b[0m     \u001b[39mif\u001b[39;00m name \u001b[39min\u001b[39;00m modules:\n\u001b[1;32m   1264\u001b[0m         \u001b[39mreturn\u001b[39;00m modules[name]\n\u001b[0;32m-> 1265\u001b[0m \u001b[39mraise\u001b[39;00m \u001b[39mAttributeError\u001b[39;00m(\u001b[39m\"\u001b[39m\u001b[39m'\u001b[39m\u001b[39m{}\u001b[39;00m\u001b[39m'\u001b[39m\u001b[39m object has no attribute \u001b[39m\u001b[39m'\u001b[39m\u001b[39m{}\u001b[39;00m\u001b[39m'\u001b[39m\u001b[39m\"\u001b[39m\u001b[39m.\u001b[39mformat(\n\u001b[1;32m   1266\u001b[0m     \u001b[39mtype\u001b[39m(\u001b[39mself\u001b[39m)\u001b[39m.\u001b[39m\u001b[39m__name__\u001b[39m, name))\n",
      "\u001b[0;31mAttributeError\u001b[0m: 'Sequential' object has no attribute 'conv'"
     ]
    }
   ],
   "source": [
    "# for 3 blocks\n",
    "layers = [  diffAE.inc.double_conv[0],                            edm.enc[\"64x64_conv\"],\n",
    "            diffAE.inc.double_conv[3],                            edm.enc[\"64x64_block0\"].conv0,\n",
    "            diffAE.down1.maxpool_conv[1].double_conv[0],          edm.enc[\"64x64_block0\"].conv1,\n",
    "            diffAE.down1.maxpool_conv[1].double_conv[3],          edm.enc[\"64x64_block1\"].conv0,\n",
    "            diffAE.down1.maxpool_conv[2].double_conv[0],          edm.enc[\"64x64_block1\"].conv1,\n",
    "            diffAE.down1.maxpool_conv[2].double_conv[3],          edm.enc[\"64x64_block2\"].conv0,\n",
    "            diffAE.down2.maxpool_conv[1].double_conv[0],          edm.enc[\"64x64_block2\"].conv1,\n",
    "            diffAE.down2.maxpool_conv[1].double_conv[3],          edm.enc[\"32x32_down\"].conv0,\n",
    "            diffAE.down2.maxpool_conv[2].double_conv[0],          edm.enc[\"32x32_down\"].conv1,  # dim 0 mismatch\n",
    "            diffAE.down2.maxpool_conv[2].double_conv[3],          edm.enc[\"32x32_block0\"].conv0, # dim 1 mismatch\n",
    "            diffAE.down3.maxpool_conv[1].double_conv[0],          edm.enc[\"32x32_block0\"].conv1,\n",
    "            diffAE.down3.maxpool_conv[1].double_conv[3],          edm.enc[\"32x32_block1\"].conv0,\n",
    "            diffAE.down3.maxpool_conv[2].double_conv[0],          edm.enc[\"32x32_block1\"].conv1,\n",
    "            diffAE.down3.maxpool_conv[2].double_conv[3],          edm.enc[\"32x32_block2\"].conv0,\n",
    "            diffAE.bot1.double_conv[0],                           edm.dec[\"8x8_in0\"].conv0,\n",
    "            diffAE.bot1.double_conv[3],                           edm.dec[\"8x8_in0\"].conv1,\n",
    "            diffAE.bot2.double_conv[0],                           edm.dec[\"8x8_in1\"].conv0,\n",
    "            diffAE.bot2.double_conv[3],                           edm.dec[\"8x8_in1\"].conv1, \n",
    "            diffAE.bot3.double_conv[0],                           edm.dec[\"8x8_block0\"].conv0,\n",
    "            diffAE.bot3.double_conv[3],                           edm.dec[\"8x8_block0\"].conv1,\n",
    "            diffAE.up1.conv[0].double_conv[0],                    edm.dec[\"32x32_block1\"].conv0,\n",
    "            diffAE.up1.conv[0].double_conv[3],                    edm.dec[\"32x32_block1\"].conv1,\n",
    "            diffAE.up1.conv[1].double_conv[0],                    edm.dec[\"32x32_block2\"].conv0,\n",
    "            diffAE.up1.conv[1].double_conv[3],                    edm.dec[\"32x32_block2\"].conv1,\n",
    "            diffAE.up2.conv[0].double_conv[0],                    edm.dec[\"32x32_block3\"].conv0,\n",
    "            diffAE.up2.conv[0].double_conv[3],                    edm.dec[\"32x32_block3\"].conv1,\n",
    "            diffAE.up2.conv[1].double_conv[0],                    edm.dec[\"64x64_up\"].conv0,\n",
    "            diffAE.up2.conv[1].double_conv[3],                    edm.dec[\"64x64_up\"].conv1,\n",
    "            diffAE.up3.conv[0].double_conv[0],                    edm.dec[\"64x64_block0\"].conv0,\n",
    "            diffAE.up3.conv[0].double_conv[3],                    edm.dec[\"64x64_block0\"].conv1,\n",
    "            diffAE.up3.conv[1].double_conv[0],                    edm.dec[\"64x64_block1\"].conv0,\n",
    "            diffAE.up3.conv[1].double_conv[3],                    edm.dec[\"64x64_block1\"].conv1,\n",
    "            diffAE.outc[2],                                  edm.out_conv,\n",
    "]\n",
    "\n",
    "layers_sem = [  sem_mod.inc.double_conv[0],                            edm.enc[\"64x64_conv\"],\n",
    "            sem_mod.inc.double_conv[3],                            edm.enc[\"64x64_block0\"].conv0,\n",
    "            sem_mod.down1.maxpool_conv[1].double_conv[0],          edm.enc[\"64x64_block0\"].conv1,\n",
    "            sem_mod.down1.maxpool_conv[1].double_conv[3],          edm.enc[\"64x64_block1\"].conv0,\n",
    "            sem_mod.down1.maxpool_conv[2].double_conv[0],          edm.enc[\"64x64_block1\"].conv1,\n",
    "            sem_mod.down1.maxpool_conv[2].double_conv[3],          edm.enc[\"64x64_block2\"].conv0,\n",
    "            sem_mod.down2.maxpool_conv[1].double_conv[0],          edm.enc[\"64x64_block2\"].conv1,\n",
    "            sem_mod.down2.maxpool_conv[1].double_conv[3],          edm.enc[\"32x32_down\"].conv0,\n",
    "            sem_mod.down2.maxpool_conv[2].double_conv[0],          edm.enc[\"32x32_down\"].conv1,  # dim 0 mismatch\n",
    "            sem_mod.down2.maxpool_conv[2].double_conv[3],          edm.enc[\"32x32_block0\"].conv0, # dim 1 mismatch\n",
    "            sem_mod.down3.maxpool_conv[1].double_conv[0],          edm.enc[\"32x32_block0\"].conv1,\n",
    "            sem_mod.down3.maxpool_conv[1].double_conv[3],          edm.enc[\"32x32_block1\"].conv0,\n",
    "            sem_mod.down3.maxpool_conv[2].double_conv[0],          edm.enc[\"32x32_block1\"].conv1,\n",
    "            sem_mod.down3.maxpool_conv[2].double_conv[3],          edm.enc[\"32x32_block2\"].conv0,\n",
    "]\n",
    "src_layers = layers[1::2]\n",
    "dst_layers = layers[::2]\n",
    "\n",
    "src_layers_sem = layers_sem[1::2]\n",
    "dst_layers_sem = layers_sem[::2]\n",
    "\n"
   ]
  },
  {
   "cell_type": "markdown",
   "metadata": {},
   "source": [
    "# for 4 blocks\n",
    "layers = [  diffAE.inc.double_conv[0],                            edm.enc[\"64x64_conv\"],\n",
    "            diffAE.inc.double_conv[3],                            edm.enc[\"64x64_block0\"].conv0,\n",
    "            diffAE.down1.maxpool_conv[1].double_conv[0],          edm.enc[\"64x64_block0\"].conv1,\n",
    "            diffAE.down1.maxpool_conv[1].double_conv[3],          edm.enc[\"64x64_block1\"].conv0,\n",
    "            diffAE.down1.maxpool_conv[2].double_conv[0],          edm.enc[\"64x64_block1\"].conv1,\n",
    "            diffAE.down1.maxpool_conv[2].double_conv[3],          edm.enc[\"64x64_block2\"].conv0,\n",
    "            diffAE.down2.maxpool_conv[1].double_conv[0],          edm.enc[\"64x64_block2\"].conv1,\n",
    "            diffAE.down2.maxpool_conv[1].double_conv[3],          edm.enc[\"32x32_down\"].conv0,\n",
    "            diffAE.down2.maxpool_conv[2].double_conv[0],          edm.enc[\"32x32_down\"].conv1,  # dim 0 mismatch\n",
    "            diffAE.down2.maxpool_conv[2].double_conv[3],          edm.enc[\"32x32_block0\"].conv0, # dim 1 mismatch\n",
    "            diffAE.down3.maxpool_conv[1].double_conv[0],          edm.enc[\"32x32_block0\"].conv1,\n",
    "            diffAE.down3.maxpool_conv[1].double_conv[3],          edm.enc[\"32x32_block1\"].conv0,\n",
    "            diffAE.down3.maxpool_conv[2].double_conv[0],          edm.enc[\"32x32_block1\"].conv1,\n",
    "            diffAE.down3.maxpool_conv[2].double_conv[3],          edm.enc[\"32x32_block2\"].conv0,\n",
    "            diffAE.down4.maxpool_conv[1].double_conv[0],          edm.enc[\"32x32_block2\"].conv1,\n",
    "            diffAE.down4.maxpool_conv[1].double_conv[3],          edm.enc[\"16x16_down\"].conv0,\n",
    "            diffAE.down4.maxpool_conv[2].double_conv[0],          edm.enc[\"16x16_down\"].conv1,\n",
    "            diffAE.down4.maxpool_conv[2].double_conv[3],          edm.enc[\"16x16_block0\"].conv0,\n",
    "            diffAE.bot1.double_conv[0],                           edm.dec[\"8x8_in0\"].conv0,\n",
    "            diffAE.bot1.double_conv[3],                           edm.dec[\"8x8_in0\"].conv1,\n",
    "            diffAE.bot2.double_conv[0],                           edm.dec[\"8x8_in1\"].conv0,\n",
    "            diffAE.bot2.double_conv[3],                           edm.dec[\"8x8_in1\"].conv1, \n",
    "            diffAE.bot3.double_conv[0],                           edm.dec[\"8x8_block0\"].conv0,\n",
    "            diffAE.bot3.double_conv[3],                           edm.dec[\"8x8_block0\"].conv1,\n",
    "            diffAE.up1.conv[0].double_conv[0],                    edm.dec[\"32x32_block3\"].conv0,\n",
    "            diffAE.up1.conv[0].double_conv[3],                    edm.dec[\"32x32_block3\"].conv1,\n",
    "            diffAE.up1.conv[1].double_conv[0],                    edm.dec[\"64x64_up\"].conv0,\n",
    "            diffAE.up1.conv[1].double_conv[3],                    edm.dec[\"64x64_up\"].conv1,\n",
    "            diffAE.up2.conv[0].double_conv[0],                    edm.dec[\"64x64_block0\"].conv0,\n",
    "            diffAE.up2.conv[0].double_conv[3],                    edm.dec[\"64x64_block0\"].conv1,\n",
    "            diffAE.up2.conv[1].double_conv[0],                    edm.dec[\"64x64_block1\"].conv0,\n",
    "            diffAE.up2.conv[1].double_conv[3],                    edm.dec[\"64x64_block1\"].conv1,\n",
    "            diffAE.up3.conv[0].double_conv[0],                    edm.dec[\"64x64_block2\"].conv0,\n",
    "            diffAE.up3.conv[0].double_conv[3],                    edm.dec[\"64x64_block2\"].conv1,\n",
    "            diffAE.up3.conv[1].double_conv[0],                    edm.dec[\"64x64_block3\"].conv0,\n",
    "            diffAE.up3.conv[1].double_conv[3],                    edm.dec[\"64x64_block3\"].conv1,\n",
    "            diffAE.outc,                                          edm.out_conv,\n",
    "]\n",
    "src_layers = layers[1::2]\n",
    "dst_layers = layers[::2]"
   ]
  },
  {
   "cell_type": "code",
   "execution_count": null,
   "metadata": {},
   "outputs": [],
   "source": [
    "for src_layer, dst_layer in zip(src_layers, dst_layers):\n",
    "    load_weights(src_layer, dst_layer)\n",
    "for src_layer, dst_layer in zip(src_layers_sem, dst_layers_sem):\n",
    "    load_weights(src_layer, dst_layer)"
   ]
  },
  {
   "cell_type": "code",
   "execution_count": null,
   "metadata": {},
   "outputs": [],
   "source": [
    "torch.save(diffAE.state_dict(), os.path.join(\"models\", \"transfered_3block.pt\"))\n",
    "torch.save(sem_mod.state_dict(), os.path.join(\"models\", \"transfered_sem.pt\"))"
   ]
  }
 ],
 "metadata": {
  "kernelspec": {
   "display_name": "eli",
   "language": "python",
   "name": "python3"
  },
  "language_info": {
   "codemirror_mode": {
    "name": "ipython",
    "version": 3
   },
   "file_extension": ".py",
   "mimetype": "text/x-python",
   "name": "python",
   "nbconvert_exporter": "python",
   "pygments_lexer": "ipython3",
   "version": "3.10.12"
  },
  "orig_nbformat": 4
 },
 "nbformat": 4,
 "nbformat_minor": 2
}
