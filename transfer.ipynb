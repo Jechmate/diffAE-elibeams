{
 "cells": [
  {
   "cell_type": "code",
   "execution_count": 4,
   "metadata": {},
   "outputs": [],
   "source": [
    "from src.modules import *\n",
    "import pickle"
   ]
  },
  {
   "cell_type": "code",
   "execution_count": 5,
   "metadata": {},
   "outputs": [],
   "source": [
    "device = 'cuda:3'"
   ]
  },
  {
   "cell_type": "code",
   "execution_count": 6,
   "metadata": {},
   "outputs": [
    {
     "ename": "FileNotFoundError",
     "evalue": "[Errno 2] No such file or directory: 'models/edm-imagenet-64x64-cond-adm.pkl'",
     "output_type": "error",
     "traceback": [
      "\u001b[0;31m---------------------------------------------------------------------------\u001b[0m",
      "\u001b[0;31mFileNotFoundError\u001b[0m                         Traceback (most recent call last)",
      "Cell \u001b[0;32mIn[6], line 2\u001b[0m\n\u001b[1;32m      1\u001b[0m diffAE \u001b[38;5;241m=\u001b[39m UNet_conditional(img_width\u001b[38;5;241m=\u001b[39m\u001b[38;5;241m128\u001b[39m, img_height\u001b[38;5;241m=\u001b[39m\u001b[38;5;241m64\u001b[39m, feat_num\u001b[38;5;241m=\u001b[39m\u001b[38;5;241m3\u001b[39m, device\u001b[38;5;241m=\u001b[39mdevice)\u001b[38;5;241m.\u001b[39mto(device)\n\u001b[0;32m----> 2\u001b[0m \u001b[38;5;28;01mwith\u001b[39;00m \u001b[38;5;28;43mopen\u001b[39;49m\u001b[43m(\u001b[49m\u001b[38;5;124;43m'\u001b[39;49m\u001b[38;5;124;43mmodels/edm-imagenet-64x64-cond-adm.pkl\u001b[39;49m\u001b[38;5;124;43m'\u001b[39;49m\u001b[43m,\u001b[49m\u001b[43m \u001b[49m\u001b[38;5;124;43m'\u001b[39;49m\u001b[38;5;124;43mrb\u001b[39;49m\u001b[38;5;124;43m'\u001b[39;49m\u001b[43m)\u001b[49m \u001b[38;5;28;01mas\u001b[39;00m f:\n\u001b[1;32m      3\u001b[0m     edm \u001b[38;5;241m=\u001b[39m pickle\u001b[38;5;241m.\u001b[39mload(f)[\u001b[38;5;124m\"\u001b[39m\u001b[38;5;124mema\u001b[39m\u001b[38;5;124m\"\u001b[39m]\u001b[38;5;241m.\u001b[39mmodel\n",
      "File \u001b[0;32m~/anaconda3/envs/eli/lib/python3.10/site-packages/IPython/core/interactiveshell.py:284\u001b[0m, in \u001b[0;36m_modified_open\u001b[0;34m(file, *args, **kwargs)\u001b[0m\n\u001b[1;32m    277\u001b[0m \u001b[38;5;28;01mif\u001b[39;00m file \u001b[38;5;129;01min\u001b[39;00m {\u001b[38;5;241m0\u001b[39m, \u001b[38;5;241m1\u001b[39m, \u001b[38;5;241m2\u001b[39m}:\n\u001b[1;32m    278\u001b[0m     \u001b[38;5;28;01mraise\u001b[39;00m \u001b[38;5;167;01mValueError\u001b[39;00m(\n\u001b[1;32m    279\u001b[0m         \u001b[38;5;124mf\u001b[39m\u001b[38;5;124m\"\u001b[39m\u001b[38;5;124mIPython won\u001b[39m\u001b[38;5;124m'\u001b[39m\u001b[38;5;124mt let you open fd=\u001b[39m\u001b[38;5;132;01m{\u001b[39;00mfile\u001b[38;5;132;01m}\u001b[39;00m\u001b[38;5;124m by default \u001b[39m\u001b[38;5;124m\"\u001b[39m\n\u001b[1;32m    280\u001b[0m         \u001b[38;5;124m\"\u001b[39m\u001b[38;5;124mas it is likely to crash IPython. If you know what you are doing, \u001b[39m\u001b[38;5;124m\"\u001b[39m\n\u001b[1;32m    281\u001b[0m         \u001b[38;5;124m\"\u001b[39m\u001b[38;5;124myou can use builtins\u001b[39m\u001b[38;5;124m'\u001b[39m\u001b[38;5;124m open.\u001b[39m\u001b[38;5;124m\"\u001b[39m\n\u001b[1;32m    282\u001b[0m     )\n\u001b[0;32m--> 284\u001b[0m \u001b[38;5;28;01mreturn\u001b[39;00m \u001b[43mio_open\u001b[49m\u001b[43m(\u001b[49m\u001b[43mfile\u001b[49m\u001b[43m,\u001b[49m\u001b[43m \u001b[49m\u001b[38;5;241;43m*\u001b[39;49m\u001b[43margs\u001b[49m\u001b[43m,\u001b[49m\u001b[43m \u001b[49m\u001b[38;5;241;43m*\u001b[39;49m\u001b[38;5;241;43m*\u001b[39;49m\u001b[43mkwargs\u001b[49m\u001b[43m)\u001b[49m\n",
      "\u001b[0;31mFileNotFoundError\u001b[0m: [Errno 2] No such file or directory: 'models/edm-imagenet-64x64-cond-adm.pkl'"
     ]
    }
   ],
   "source": [
    "diffAE = UNet_conditional(img_width=128, img_height=64, feat_num=3, device=device).to(device)\n",
    "with open('models/edm-imagenet-64x64-cond-adm.pkl', 'rb') as f:\n",
    "    edm = pickle.load(f)[\"ema\"].model"
   ]
  },
  {
   "cell_type": "code",
   "execution_count": null,
   "metadata": {},
   "outputs": [],
   "source": [
    "def generate_indices(length, max_value):\n",
    "    # Create a tensor of unique values\n",
    "    unique_values = torch.arange(max_value)\n",
    "    \n",
    "    # Calculate the number of repetitions needed\n",
    "    num_repetitions = length - max_value\n",
    "    \n",
    "    # Generate random indices\n",
    "    repetitions = torch.randint(high=max_value, size=(num_repetitions,))\n",
    "    \n",
    "    # Concatenate the unique values and repetitions\n",
    "    indices = torch.cat((unique_values, repetitions))\n",
    "    \n",
    "    return indices\n",
    "\n",
    "def load_weights(src_layer, dst_layer):\n",
    "    indices = []\n",
    "    if len(src_layer.weight.shape) != len(dst_layer.weight.shape):\n",
    "        print(\"Source layer has \", len(src_layer.shape), \" dimensions, but destination layer has \", len(dst_layer.shape), \" dimensions.\")\n",
    "        return\n",
    "    for idx in range(len(dst_layer.weight.shape)):\n",
    "        if dst_layer.weight.shape[idx] > src_layer.weight.shape[idx]:\n",
    "            indices.append(generate_indices(dst_layer.weight.shape[idx], src_layer.weight.shape[idx]))\n",
    "        elif dst_layer.weight.shape[idx] < src_layer.weight.shape[idx]:\n",
    "            # print(src_layer.weight.shape[idx])\n",
    "            indices.append(torch.randperm(src_layer.weight.shape[idx])[:dst_layer.weight.shape[idx]])\n",
    "        else:\n",
    "            indices.append(torch.arange(0, src_layer.weight.shape[idx], dtype=int))\n",
    "    extracted_weights = torch.nn.Parameter(src_layer.weight[indices[0]][:,indices[1]][:,:,indices[2]][:,:,:,indices[3]])\n",
    "    dst_layer.weight = extracted_weights\n",
    "    return dst_layer"
   ]
  },
  {
   "cell_type": "code",
   "execution_count": null,
   "metadata": {},
   "outputs": [],
   "source": [
    "# for 2 blocks\n",
    "layers = [  diffAE.inc.double_conv[0],                            edm.enc[\"64x64_conv\"],\n",
    "            diffAE.inc.double_conv[3],                            edm.enc[\"64x64_block0\"].conv0,\n",
    "            diffAE.down1.maxpool_conv[1].double_conv[0],          edm.enc[\"64x64_block0\"].conv1,\n",
    "            diffAE.down1.maxpool_conv[1].double_conv[3],          edm.enc[\"64x64_block1\"].conv0,\n",
    "            diffAE.down1.maxpool_conv[2].double_conv[0],          edm.enc[\"64x64_block1\"].conv1,\n",
    "            diffAE.down1.maxpool_conv[2].double_conv[3],          edm.enc[\"64x64_block2\"].conv0,\n",
    "            diffAE.down2.maxpool_conv[1].double_conv[0],          edm.enc[\"64x64_block2\"].conv1,\n",
    "            diffAE.down2.maxpool_conv[1].double_conv[3],          edm.enc[\"32x32_down\"].conv0,\n",
    "            diffAE.down2.maxpool_conv[2].double_conv[0],          edm.enc[\"32x32_down\"].conv1,  # dim 0 mismatch\n",
    "            diffAE.down2.maxpool_conv[2].double_conv[3],          edm.enc[\"32x32_block0\"].conv0, # dim 1 mismatch\n",
    "            diffAE.bot1.double_conv[0],                           edm.dec[\"8x8_in0\"].conv0,\n",
    "            diffAE.bot1.double_conv[3],                           edm.dec[\"8x8_in0\"].conv1,\n",
    "            diffAE.bot2.double_conv[0],                           edm.dec[\"8x8_in1\"].conv0,\n",
    "            diffAE.bot2.double_conv[3],                           edm.dec[\"8x8_in1\"].conv1, \n",
    "            diffAE.bot3.double_conv[0],                           edm.dec[\"8x8_block0\"].conv0,\n",
    "            diffAE.bot3.double_conv[3],                           edm.dec[\"8x8_block0\"].conv1,\n",
    "            diffAE.up1.conv[0].double_conv[0],                    edm.dec[\"64x64_block0\"].conv0,\n",
    "            diffAE.up1.conv[0].double_conv[3],                    edm.dec[\"64x64_block0\"].conv1,\n",
    "            diffAE.up1.conv[1].double_conv[0],                    edm.dec[\"64x64_block1\"].conv0,\n",
    "            diffAE.up1.conv[1].double_conv[3],                    edm.dec[\"64x64_block1\"].conv1,\n",
    "            diffAE.up2.conv[0].double_conv[0],                    edm.dec[\"64x64_block2\"].conv0,\n",
    "            diffAE.up2.conv[0].double_conv[3],                    edm.dec[\"64x64_block2\"].conv1,\n",
    "            diffAE.up2.conv[1].double_conv[0],                    edm.dec[\"64x64_block3\"].conv0,\n",
    "            diffAE.up2.conv[1].double_conv[3],                    edm.dec[\"64x64_block3\"].conv1,\n",
    "            diffAE.outc,                                          edm.out_conv,\n",
    "]\n",
    "src_layers = layers[1::2]\n",
    "dst_layers = layers[::2]"
   ]
  },
  {
   "cell_type": "code",
   "execution_count": null,
   "metadata": {},
   "outputs": [],
   "source": [
    "# for 3 blocks\n",
    "layers = [  diffAE.inc.double_conv[0],                            edm.enc[\"64x64_conv\"],\n",
    "            diffAE.inc.double_conv[3],                            edm.enc[\"64x64_block0\"].conv0,\n",
    "            diffAE.down1.maxpool_conv[1].double_conv[0],          edm.enc[\"64x64_block0\"].conv1,\n",
    "            diffAE.down1.maxpool_conv[1].double_conv[3],          edm.enc[\"64x64_block1\"].conv0,\n",
    "            diffAE.down1.maxpool_conv[2].double_conv[0],          edm.enc[\"64x64_block1\"].conv1,\n",
    "            diffAE.down1.maxpool_conv[2].double_conv[3],          edm.enc[\"64x64_block2\"].conv0,\n",
    "            diffAE.down2.maxpool_conv[1].double_conv[0],          edm.enc[\"64x64_block2\"].conv1,\n",
    "            diffAE.down2.maxpool_conv[1].double_conv[3],          edm.enc[\"32x32_down\"].conv0,\n",
    "            diffAE.down2.maxpool_conv[2].double_conv[0],          edm.enc[\"32x32_down\"].conv1,  # dim 0 mismatch\n",
    "            diffAE.down2.maxpool_conv[2].double_conv[3],          edm.enc[\"32x32_block0\"].conv0, # dim 1 mismatch\n",
    "            diffAE.down3.maxpool_conv[1].double_conv[0],          edm.enc[\"32x32_block0\"].conv1,\n",
    "            diffAE.down3.maxpool_conv[1].double_conv[3],          edm.enc[\"32x32_block1\"].conv0,\n",
    "            diffAE.down3.maxpool_conv[2].double_conv[0],          edm.enc[\"32x32_block1\"].conv1,\n",
    "            diffAE.down3.maxpool_conv[2].double_conv[3],          edm.enc[\"32x32_block2\"].conv0,\n",
    "            diffAE.bot1.double_conv[0],                           edm.dec[\"8x8_in0\"].conv0,\n",
    "            diffAE.bot1.double_conv[3],                           edm.dec[\"8x8_in0\"].conv1,\n",
    "            diffAE.bot2.double_conv[0],                           edm.dec[\"8x8_in1\"].conv0,\n",
    "            diffAE.bot2.double_conv[3],                           edm.dec[\"8x8_in1\"].conv1, \n",
    "            diffAE.bot3.double_conv[0],                           edm.dec[\"8x8_block0\"].conv0,\n",
    "            diffAE.bot3.double_conv[3],                           edm.dec[\"8x8_block0\"].conv1,\n",
    "            diffAE.up1.conv[0].double_conv[0],                    edm.dec[\"32x32_block1\"].conv0,\n",
    "            diffAE.up1.conv[0].double_conv[3],                    edm.dec[\"32x32_block1\"].conv1,\n",
    "            diffAE.up1.conv[1].double_conv[0],                    edm.dec[\"32x32_block2\"].conv0,\n",
    "            diffAE.up1.conv[1].double_conv[3],                    edm.dec[\"32x32_block2\"].conv1,\n",
    "            diffAE.up2.conv[0].double_conv[0],                    edm.dec[\"32x32_block3\"].conv0,\n",
    "            diffAE.up2.conv[0].double_conv[3],                    edm.dec[\"32x32_block3\"].conv1,\n",
    "            diffAE.up2.conv[1].double_conv[0],                    edm.dec[\"64x64_up\"].conv0,\n",
    "            diffAE.up2.conv[1].double_conv[3],                    edm.dec[\"64x64_up\"].conv1,\n",
    "            diffAE.up3.conv[0].double_conv[0],                    edm.dec[\"64x64_block0\"].conv0,\n",
    "            diffAE.up3.conv[0].double_conv[3],                    edm.dec[\"64x64_block0\"].conv1,\n",
    "            diffAE.up3.conv[1].double_conv[0],                    edm.dec[\"64x64_block1\"].conv0,\n",
    "            diffAE.up3.conv[1].double_conv[3],                    edm.dec[\"64x64_block1\"].conv1,\n",
    "            diffAE.up4.conv[0].double_conv[0],                    edm.dec[\"64x64_block2\"].conv0,\n",
    "            diffAE.up4.conv[0].double_conv[3],                    edm.dec[\"64x64_block2\"].conv1,\n",
    "            diffAE.up4.conv[1].double_conv[0],                    edm.dec[\"64x64_block3\"].conv0,\n",
    "            diffAE.up4.conv[1].double_conv[3],                    edm.dec[\"64x64_block3\"].conv1,\n",
    "            diffAE.outc,                                          edm.out_conv,\n",
    "]\n",
    "src_layers = layers[1::2]\n",
    "dst_layers = layers[::2]"
   ]
  },
  {
   "cell_type": "code",
   "execution_count": null,
   "metadata": {},
   "outputs": [],
   "source": [
    "# for 4 blocks\n",
    "layers = [  diffAE.inc.double_conv[0],                            edm.enc[\"64x64_conv\"],\n",
    "            diffAE.inc.double_conv[3],                            edm.enc[\"64x64_block0\"].conv0,\n",
    "            diffAE.down1.maxpool_conv[1].double_conv[0],          edm.enc[\"64x64_block0\"].conv1,\n",
    "            diffAE.down1.maxpool_conv[1].double_conv[3],          edm.enc[\"64x64_block1\"].conv0,\n",
    "            diffAE.down1.maxpool_conv[2].double_conv[0],          edm.enc[\"64x64_block1\"].conv1,\n",
    "            diffAE.down1.maxpool_conv[2].double_conv[3],          edm.enc[\"64x64_block2\"].conv0,\n",
    "            diffAE.down2.maxpool_conv[1].double_conv[0],          edm.enc[\"64x64_block2\"].conv1,\n",
    "            diffAE.down2.maxpool_conv[1].double_conv[3],          edm.enc[\"32x32_down\"].conv0,\n",
    "            diffAE.down2.maxpool_conv[2].double_conv[0],          edm.enc[\"32x32_down\"].conv1,  # dim 0 mismatch\n",
    "            diffAE.down2.maxpool_conv[2].double_conv[3],          edm.enc[\"32x32_block0\"].conv0, # dim 1 mismatch\n",
    "            diffAE.down3.maxpool_conv[1].double_conv[0],          edm.enc[\"32x32_block0\"].conv1,\n",
    "            diffAE.down3.maxpool_conv[1].double_conv[3],          edm.enc[\"32x32_block1\"].conv0,\n",
    "            diffAE.down3.maxpool_conv[2].double_conv[0],          edm.enc[\"32x32_block1\"].conv1,\n",
    "            diffAE.down3.maxpool_conv[2].double_conv[3],          edm.enc[\"32x32_block2\"].conv0,\n",
    "            diffAE.down4.maxpool_conv[1].double_conv[0],          edm.enc[\"32x32_block2\"].conv1,\n",
    "            diffAE.down4.maxpool_conv[1].double_conv[3],          edm.enc[\"16x16_down\"].conv0,\n",
    "            diffAE.down4.maxpool_conv[2].double_conv[0],          edm.enc[\"16x16_down\"].conv1,\n",
    "            diffAE.down4.maxpool_conv[2].double_conv[3],          edm.enc[\"16x16_block0\"].conv0,\n",
    "            diffAE.bot1.double_conv[0],                           edm.dec[\"8x8_in0\"].conv0,\n",
    "            diffAE.bot1.double_conv[3],                           edm.dec[\"8x8_in0\"].conv1,\n",
    "            diffAE.bot2.double_conv[0],                           edm.dec[\"8x8_in1\"].conv0,\n",
    "            diffAE.bot2.double_conv[3],                           edm.dec[\"8x8_in1\"].conv1, \n",
    "            diffAE.bot3.double_conv[0],                           edm.dec[\"8x8_block0\"].conv0,\n",
    "            diffAE.bot3.double_conv[3],                           edm.dec[\"8x8_block0\"].conv1,\n",
    "            diffAE.up1.conv[0].double_conv[0],                    edm.dec[\"32x32_block3\"].conv0,\n",
    "            diffAE.up1.conv[0].double_conv[3],                    edm.dec[\"32x32_block3\"].conv1,\n",
    "            diffAE.up1.conv[1].double_conv[0],                    edm.dec[\"64x64_up\"].conv0,\n",
    "            diffAE.up1.conv[1].double_conv[3],                    edm.dec[\"64x64_up\"].conv1,\n",
    "            diffAE.up2.conv[0].double_conv[0],                    edm.dec[\"64x64_block0\"].conv0,\n",
    "            diffAE.up2.conv[0].double_conv[3],                    edm.dec[\"64x64_block0\"].conv1,\n",
    "            diffAE.up2.conv[1].double_conv[0],                    edm.dec[\"64x64_block1\"].conv0,\n",
    "            diffAE.up2.conv[1].double_conv[3],                    edm.dec[\"64x64_block1\"].conv1,\n",
    "            diffAE.up3.conv[0].double_conv[0],                    edm.dec[\"64x64_block2\"].conv0,\n",
    "            diffAE.up3.conv[0].double_conv[3],                    edm.dec[\"64x64_block2\"].conv1,\n",
    "            diffAE.up3.conv[1].double_conv[0],                    edm.dec[\"64x64_block3\"].conv0,\n",
    "            diffAE.up3.conv[1].double_conv[3],                    edm.dec[\"64x64_block3\"].conv1,\n",
    "            diffAE.outc,                                          edm.out_conv,\n",
    "]\n",
    "src_layers = layers[1::2]\n",
    "dst_layers = layers[::2]"
   ]
  },
  {
   "cell_type": "code",
   "execution_count": null,
   "metadata": {},
   "outputs": [],
   "source": [
    "for src_layer, dst_layer in zip(src_layers, dst_layers):\n",
    "    load_weights(src_layer, dst_layer)"
   ]
  },
  {
   "cell_type": "code",
   "execution_count": null,
   "metadata": {},
   "outputs": [],
   "source": [
    "torch.save(diffAE.state_dict(), os.path.join(\"models\", \"transfered_2block.pt\"))"
   ]
  }
 ],
 "metadata": {
  "kernelspec": {
   "display_name": "eli",
   "language": "python",
   "name": "python3"
  },
  "language_info": {
   "codemirror_mode": {
    "name": "ipython",
    "version": 3
   },
   "file_extension": ".py",
   "mimetype": "text/x-python",
   "name": "python",
   "nbconvert_exporter": "python",
   "pygments_lexer": "ipython3",
   "version": "3.10.12"
  },
  "orig_nbformat": 4
 },
 "nbformat": 4,
 "nbformat_minor": 2
}
